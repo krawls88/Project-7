{
 "cells": [
  {
   "cell_type": "markdown",
   "metadata": {
    "focus": true,
    "id": "d21ca30e-294e-4146-8e4f-a5c331f7a36e"
   },
   "source": [
    "### Project 7 \n",
    "\n",
    "In this project, you will implement the the clustering techniques that you've learned this week. \n",
    "\n",
    "#### Step 1: Load the python libraries that you will need for this project "
   ]
  },
  {
   "cell_type": "code",
   "execution_count": 1,
   "metadata": {
    "collapsed": false,
    "focus": false,
    "id": "78c3bb3f-f513-437b-94f8-bc363b6e7a8b"
   },
   "outputs": [],
   "source": [
    "import pandas as pd \n",
    "import matplotlib as plt\n",
    "import numpy as np\n",
    "import sklearn as sk \n",
    "import seaborn as sns\n",
    "import matplotlib.pyplot as plt\n",
    "import matplotlib as mpl\n",
    "%matplotlib inline\n"
   ]
  },
  {
   "cell_type": "markdown",
   "metadata": {
    "focus": false,
    "id": "2c6f52ae-e694-463c-87d8-1974726c2e7a"
   },
   "source": [
    "#### Step 2: Examine your data "
   ]
  },
  {
   "cell_type": "code",
   "execution_count": 2,
   "metadata": {
    "collapsed": false,
    "focus": false,
    "id": "0f64db5a-e176-46a1-a10b-8c7db09437bc"
   },
   "outputs": [
    {
     "data": {
      "text/html": [
       "<div>\n",
       "<table border=\"1\" class=\"dataframe\">\n",
       "  <thead>\n",
       "    <tr style=\"text-align: right;\">\n",
       "      <th></th>\n",
       "      <th>Airport</th>\n",
       "      <th>Year</th>\n",
       "      <th>Departure Cancellations</th>\n",
       "      <th>Arrival Cancellations</th>\n",
       "      <th>Departure Diversions</th>\n",
       "      <th>Arrival Diversions</th>\n",
       "    </tr>\n",
       "  </thead>\n",
       "  <tbody>\n",
       "    <tr>\n",
       "      <th>0</th>\n",
       "      <td>ABQ</td>\n",
       "      <td>2004.0</td>\n",
       "      <td>242.0</td>\n",
       "      <td>235.0</td>\n",
       "      <td>71.0</td>\n",
       "      <td>46.0</td>\n",
       "    </tr>\n",
       "    <tr>\n",
       "      <th>1</th>\n",
       "      <td>ABQ</td>\n",
       "      <td>2005.0</td>\n",
       "      <td>221.0</td>\n",
       "      <td>190.0</td>\n",
       "      <td>61.0</td>\n",
       "      <td>33.0</td>\n",
       "    </tr>\n",
       "    <tr>\n",
       "      <th>2</th>\n",
       "      <td>ABQ</td>\n",
       "      <td>2006.0</td>\n",
       "      <td>392.0</td>\n",
       "      <td>329.0</td>\n",
       "      <td>71.0</td>\n",
       "      <td>124.0</td>\n",
       "    </tr>\n",
       "  </tbody>\n",
       "</table>\n",
       "</div>"
      ],
      "text/plain": [
       "  Airport    Year  Departure Cancellations  Arrival Cancellations  \\\n",
       "0     ABQ  2004.0                    242.0                  235.0   \n",
       "1     ABQ  2005.0                    221.0                  190.0   \n",
       "2     ABQ  2006.0                    392.0                  329.0   \n",
       "\n",
       "   Departure Diversions  Arrival Diversions  \n",
       "0                  71.0                46.0  \n",
       "1                  61.0                33.0  \n",
       "2                  71.0               124.0  "
      ]
     },
     "execution_count": 2,
     "metadata": {},
     "output_type": "execute_result"
    }
   ],
   "source": [
    "airport_cancellations_df = pd.read_csv(\"airport_cancellations.csv\")\n",
    "airport_cancellations_df = airport_cancellations_df.dropna() \n",
    "airport_cancellations_df[:3]"
   ]
  },
  {
   "cell_type": "code",
   "execution_count": 3,
   "metadata": {
    "collapsed": false
   },
   "outputs": [
    {
     "data": {
      "text/html": [
       "<div>\n",
       "<table border=\"1\" class=\"dataframe\">\n",
       "  <thead>\n",
       "    <tr style=\"text-align: right;\">\n",
       "      <th></th>\n",
       "      <th>airport</th>\n",
       "      <th>year</th>\n",
       "      <th>departures for metric computation</th>\n",
       "      <th>arrivals for metric computation</th>\n",
       "      <th>percent on-time gate departures</th>\n",
       "      <th>percent on-time airport departures</th>\n",
       "      <th>percent on-time gate arrivals</th>\n",
       "      <th>average_gate_departure_delay</th>\n",
       "      <th>average_taxi_out_time</th>\n",
       "      <th>average taxi out delay</th>\n",
       "      <th>average airport departure delay</th>\n",
       "      <th>average airborne delay</th>\n",
       "      <th>average taxi in delay</th>\n",
       "      <th>average block delay</th>\n",
       "      <th>average gate arrival delay</th>\n",
       "    </tr>\n",
       "  </thead>\n",
       "  <tbody>\n",
       "    <tr>\n",
       "      <th>0</th>\n",
       "      <td>ABQ</td>\n",
       "      <td>2004</td>\n",
       "      <td>53971</td>\n",
       "      <td>53818</td>\n",
       "      <td>0.8030</td>\n",
       "      <td>0.7809</td>\n",
       "      <td>0.7921</td>\n",
       "      <td>10.38</td>\n",
       "      <td>9.89</td>\n",
       "      <td>2.43</td>\n",
       "      <td>12.10</td>\n",
       "      <td>2.46</td>\n",
       "      <td>0.83</td>\n",
       "      <td>2.55</td>\n",
       "      <td>10.87</td>\n",
       "    </tr>\n",
       "    <tr>\n",
       "      <th>1</th>\n",
       "      <td>ABQ</td>\n",
       "      <td>2005</td>\n",
       "      <td>51829</td>\n",
       "      <td>51877</td>\n",
       "      <td>0.8140</td>\n",
       "      <td>0.7922</td>\n",
       "      <td>0.8001</td>\n",
       "      <td>9.60</td>\n",
       "      <td>9.79</td>\n",
       "      <td>2.29</td>\n",
       "      <td>11.20</td>\n",
       "      <td>2.26</td>\n",
       "      <td>0.89</td>\n",
       "      <td>2.34</td>\n",
       "      <td>10.24</td>\n",
       "    </tr>\n",
       "    <tr>\n",
       "      <th>2</th>\n",
       "      <td>ABQ</td>\n",
       "      <td>2006</td>\n",
       "      <td>49682</td>\n",
       "      <td>51199</td>\n",
       "      <td>0.7983</td>\n",
       "      <td>0.7756</td>\n",
       "      <td>0.7746</td>\n",
       "      <td>10.84</td>\n",
       "      <td>9.89</td>\n",
       "      <td>2.16</td>\n",
       "      <td>12.33</td>\n",
       "      <td>2.12</td>\n",
       "      <td>0.84</td>\n",
       "      <td>2.66</td>\n",
       "      <td>11.82</td>\n",
       "    </tr>\n",
       "  </tbody>\n",
       "</table>\n",
       "</div>"
      ],
      "text/plain": [
       "  airport  year  departures for metric computation  \\\n",
       "0     ABQ  2004                              53971   \n",
       "1     ABQ  2005                              51829   \n",
       "2     ABQ  2006                              49682   \n",
       "\n",
       "   arrivals for metric computation  percent on-time gate departures  \\\n",
       "0                            53818                           0.8030   \n",
       "1                            51877                           0.8140   \n",
       "2                            51199                           0.7983   \n",
       "\n",
       "   percent on-time airport departures  percent on-time gate arrivals  \\\n",
       "0                              0.7809                         0.7921   \n",
       "1                              0.7922                         0.8001   \n",
       "2                              0.7756                         0.7746   \n",
       "\n",
       "   average_gate_departure_delay  average_taxi_out_time  \\\n",
       "0                         10.38                   9.89   \n",
       "1                          9.60                   9.79   \n",
       "2                         10.84                   9.89   \n",
       "\n",
       "   average taxi out delay  average airport departure delay  \\\n",
       "0                    2.43                            12.10   \n",
       "1                    2.29                            11.20   \n",
       "2                    2.16                            12.33   \n",
       "\n",
       "   average airborne delay  average taxi in delay  average block delay  \\\n",
       "0                    2.46                   0.83                 2.55   \n",
       "1                    2.26                   0.89                 2.34   \n",
       "2                    2.12                   0.84                 2.66   \n",
       "\n",
       "   average gate arrival delay  \n",
       "0                       10.87  \n",
       "1                       10.24  \n",
       "2                       11.82  "
      ]
     },
     "execution_count": 3,
     "metadata": {},
     "output_type": "execute_result"
    }
   ],
   "source": [
    "airport_operations_df = pd.read_csv(\"airport_operations.csv\")\n",
    "airport_operations_df = airport_operations_df.dropna() \n",
    "airport_operations_df[:3]"
   ]
  },
  {
   "cell_type": "code",
   "execution_count": 4,
   "metadata": {
    "collapsed": false
   },
   "outputs": [],
   "source": [
    "plot_df = airport_cancellations_df[['Departure Cancellations', 'Arrival Cancellations','Departure Diversions',\n",
    "                                   'Arrival Diversions']]"
   ]
  },
  {
   "cell_type": "code",
   "execution_count": 5,
   "metadata": {
    "collapsed": false
   },
   "outputs": [
    {
     "data": {
      "text/plain": [
       "<seaborn.axisgrid.PairGrid at 0x1171fded0>"
      ]
     },
     "execution_count": 5,
     "metadata": {},
     "output_type": "execute_result"
    },
    {
     "data": {
      "image/png": "[encoded data removed]",
      "text/plain": [
       "<matplotlib.figure.Figure at 0x1171ec950>"
      ]
     },
     "metadata": {},
     "output_type": "display_data"
    }
   ],
   "source": [
    "sns.pairplot(plot_df)"
   ]
  },
  {
   "cell_type": "markdown",
   "metadata": {
    "focus": false,
    "id": "3690c265-ac0f-484d-ac79-f42da341e4cd"
   },
   "source": [
    "### Intro: Write a problem statement / aim for this project"
   ]
  },
  {
   "cell_type": "markdown",
   "metadata": {
    "focus": false,
    "id": "58297e17-aa21-4d1d-a46b-a36a4b92aac7"
   },
   "source": [
    "We want to understand the behavior of flight cancellations\n",
    "Answer: How are we going to do this?"
   ]
  },
  {
   "cell_type": "markdown",
   "metadata": {
    "focus": false,
    "id": "a3cccc0e-8531-4dfe-bb23-8c632aa7404e"
   },
   "source": [
    "### Part 1: Create a SQLite database "
   ]
  },
  {
   "cell_type": "markdown",
   "metadata": {
    "focus": false,
    "id": "b51ca850-aa85-43e1-b7cd-627af62f5fe8"
   },
   "source": [
    "#### 1. Let's create a database where we can house our airport data"
   ]
  },
  {
   "cell_type": "code",
   "execution_count": 6,
   "metadata": {
    "collapsed": true,
    "focus": false,
    "id": "5d1b5e84-b49a-4bad-b961-abcb8e6f2751"
   },
   "outputs": [],
   "source": [
    "import pandas as pd\n",
    "from pandas.io import sql\n",
    "\n",
    "import sqlite3\n",
    "sqlite_db = 'AirportDatabase.sqlite'\n",
    "conn = sqlite3.connect(sqlite_db)\n",
    "\n"
   ]
  },
  {
   "cell_type": "markdown",
   "metadata": {
    "focus": false,
    "id": "b40e2d2b-5535-42c6-94d6-083b3e428b14"
   },
   "source": [
    "Load our csv files into tables"
   ]
  },
  {
   "cell_type": "code",
   "execution_count": 7,
   "metadata": {
    "collapsed": false,
    "focus": false,
    "id": "5cb41423-7467-4005-964c-9b423c3af977"
   },
   "outputs": [
    {
     "name": "stderr",
     "output_type": "stream",
     "text": [
      "//anaconda/lib/python2.7/site-packages/pandas/core/generic.py:1165: UserWarning: The spaces in these column names will not be changed. In pandas versions < 0.14, spaces were converted to underscores.\n",
      "  chunksize=chunksize, dtype=dtype)\n"
     ]
    }
   ],
   "source": [
    "pd.read_csv('airport_cancellations.csv').to_sql('airport_cancellations',con=conn,if_exists='replace',index=False)"
   ]
  },
  {
   "cell_type": "code",
   "execution_count": 8,
   "metadata": {
    "collapsed": true
   },
   "outputs": [],
   "source": [
    "pd.read_csv('airport_operations.csv').to_sql('airport_operation',con=conn,if_exists='replace',index=False)"
   ]
  },
  {
   "cell_type": "markdown",
   "metadata": {
    "focus": false,
    "id": "a0ca5023-4860-4d86-ae40-218d120ece17"
   },
   "source": [
    "Join airport_cancellations.csv and airports.csv into one table (try to do it with both pandas and SQLite)"
   ]
  },
  {
   "cell_type": "code",
   "execution_count": 9,
   "metadata": {
    "collapsed": true
   },
   "outputs": [],
   "source": [
    "airport_df = pd.read_csv('airports.csv')"
   ]
  },
  {
   "cell_type": "code",
   "execution_count": 10,
   "metadata": {
    "collapsed": false
   },
   "outputs": [
    {
     "data": {
      "text/plain": [
       "Index([u'Key', u'LocID', u'AP_NAME', u'ALIAS', u'Facility Type', u'FAA REGION',\n",
       "       u'COUNTY', u'CITY', u'STATE', u'AP Type', u'Latitude', u'Longitude',\n",
       "       u'Boundary Data Available'],\n",
       "      dtype='object')"
      ]
     },
     "execution_count": 10,
     "metadata": {},
     "output_type": "execute_result"
    }
   ],
   "source": [
    "airport_df.columns"
   ]
  },
  {
   "cell_type": "code",
   "execution_count": 11,
   "metadata": {
    "collapsed": false
   },
   "outputs": [
    {
     "data": {
      "text/plain": [
       "array(['ASO', 'AWP', 'ASW', 'ACE', 'AEA', 'ANM', 'AGL', 'ANE', 'AAL', nan], dtype=object)"
      ]
     },
     "execution_count": 11,
     "metadata": {},
     "output_type": "execute_result"
    }
   ],
   "source": [
    "airport_df['FAA REGION'].unique()"
   ]
  },
  {
   "cell_type": "code",
   "execution_count": 12,
   "metadata": {
    "collapsed": true
   },
   "outputs": [],
   "source": [
    "#IT APPEARS THE ALIAS COLUMNS HAS MANY DIFFERENT WEIRD THINGS IN THEM LETS GET RID OF THEM "
   ]
  },
  {
   "cell_type": "code",
   "execution_count": 13,
   "metadata": {
    "collapsed": true
   },
   "outputs": [],
   "source": [
    "#CLEANING UP AIRPORTS TABLE/DATAFRAME "
   ]
  },
  {
   "cell_type": "code",
   "execution_count": 14,
   "metadata": {
    "collapsed": false
   },
   "outputs": [
    {
     "data": {
      "text/plain": [
       "'Aeropuerto Antonio Rivera Rodr\\xef\\xbf\\xbdguez'"
      ]
     },
     "execution_count": 14,
     "metadata": {},
     "output_type": "execute_result"
    }
   ],
   "source": [
    "airport_df.ALIAS[3]"
   ]
  },
  {
   "cell_type": "code",
   "execution_count": 15,
   "metadata": {
    "collapsed": true
   },
   "outputs": [],
   "source": [
    "def conv_to_urf(a):\n",
    "    return str(a).decode('utf-8')"
   ]
  },
  {
   "cell_type": "code",
   "execution_count": 16,
   "metadata": {
    "collapsed": false
   },
   "outputs": [],
   "source": [
    "airport_df['ALIAS'] = airport_df['ALIAS'].apply(conv_to_urf)"
   ]
  },
  {
   "cell_type": "code",
   "execution_count": 17,
   "metadata": {
    "collapsed": true
   },
   "outputs": [],
   "source": [
    "airport = airport_df.dropna()"
   ]
  },
  {
   "cell_type": "code",
   "execution_count": 18,
   "metadata": {
    "collapsed": true
   },
   "outputs": [],
   "source": [
    "#NOW LETS ADD AIRPORT_DF TO THE DATABASE "
   ]
  },
  {
   "cell_type": "code",
   "execution_count": 19,
   "metadata": {
    "collapsed": false
   },
   "outputs": [],
   "source": [
    "airport.to_sql('airport', con=conn, if_exists='replace', index=False)"
   ]
  },
  {
   "cell_type": "markdown",
   "metadata": {},
   "source": [
    "Join airport_cancellations.csv and airports.csv into one table (try to do it with both pandas and SQLite)"
   ]
  },
  {
   "cell_type": "code",
   "execution_count": 20,
   "metadata": {
    "collapsed": false
   },
   "outputs": [],
   "source": [
    "# LocID in airports.csv \n",
    "# is the same as Airport in airport_cancellations.csv\n",
    "# so these are what you would join on ...\n",
    "\n",
    "joined_df = pd.merge(airport_cancellations_df,airport_operations_df,\n",
    "                      left_on = 'Airport', right_on = 'airport')\n",
    "\n",
    "#ALSO, I AM MERGING THE AIRPORT DATAFRAMA WITH THE JOINED_DF DATAFRAME \n",
    "\n",
    "\n",
    "\n",
    "joined_df = pd.merge(joined_df, airport_df, left_on='Airport', right_on='LocID')"
   ]
  },
  {
   "cell_type": "code",
   "execution_count": 21,
   "metadata": {
    "collapsed": true
   },
   "outputs": [],
   "source": [
    "joined_df.dropna(inplace=True)"
   ]
  },
  {
   "cell_type": "code",
   "execution_count": 22,
   "metadata": {
    "collapsed": false
   },
   "outputs": [],
   "source": [
    "Cancellation_df = joined_df[['Departure Cancellations','Arrival Cancellations',\n",
    "                             'Departure Diversions','Arrival Diversions']]"
   ]
  },
  {
   "cell_type": "code",
   "execution_count": 23,
   "metadata": {
    "collapsed": false
   },
   "outputs": [],
   "source": [
    "joined_df.drop(['airport','year','Departure Cancellations','Arrival Cancellations',\n",
    "                             'Departure Diversions','Arrival Diversions'], axis=1, inplace=True)"
   ]
  },
  {
   "cell_type": "markdown",
   "metadata": {
    "focus": false,
    "id": "a5fa5f85-1cd6-4ab6-b936-93e9c951e1b7"
   },
   "source": [
    "Query the database for our intial data"
   ]
  },
  {
   "cell_type": "code",
   "execution_count": 24,
   "metadata": {
    "collapsed": false,
    "focus": false,
    "id": "385da01a-0b74-47bc-9757-447e46fa194a"
   },
   "outputs": [],
   "source": [
    "# cur = conn.cursor()\n",
    "# cur.execute(\"\"\"SELECT * FROM Airport\"\"\")\n",
    "# ap = cur.fetchall()\n",
    "# print ap"
   ]
  },
  {
   "cell_type": "markdown",
   "metadata": {
    "focus": false,
    "id": "0b511b59-41ea-478f-bf2d-7e392dc9edaa"
   },
   "source": [
    "#### 1.2 What are the risks and assumptions of our data? "
   ]
  },
  {
   "cell_type": "markdown",
   "metadata": {
    "focus": false,
    "id": "0936ff6a-6919-4436-9fc1-d6ef90d5ba9e"
   },
   "source": []
  },
  {
   "cell_type": "markdown",
   "metadata": {
    "focus": false,
    "id": "e97b4707-0f0e-4f6a-90ab-fbb634c2305d"
   },
   "source": [
    "### Part 2: Exploratory Data Analysis"
   ]
  },
  {
   "cell_type": "markdown",
   "metadata": {
    "focus": false,
    "id": "6be9cf88-1b92-4360-b424-a495d5e2d4ba"
   },
   "source": [
    "#### 2.1 Plot and Describe the Data"
   ]
  },
  {
   "cell_type": "code",
   "execution_count": 25,
   "metadata": {
    "collapsed": false
   },
   "outputs": [
    {
     "name": "stdout",
     "output_type": "stream",
     "text": [
      "<class 'pandas.core.frame.DataFrame'>\n",
      "Int64Index: 8789 entries, 0 to 8788\n",
      "Data columns (total 28 columns):\n",
      "Airport                               8789 non-null object\n",
      "Year                                  8789 non-null float64\n",
      "departures for metric computation     8789 non-null int64\n",
      "arrivals for metric computation       8789 non-null int64\n",
      "percent on-time gate departures       8789 non-null float64\n",
      "percent on-time airport departures    8789 non-null float64\n",
      "percent on-time gate arrivals         8789 non-null float64\n",
      "average_gate_departure_delay          8789 non-null float64\n",
      "average_taxi_out_time                 8789 non-null float64\n",
      "average taxi out delay                8789 non-null float64\n",
      "average airport departure delay       8789 non-null float64\n",
      "average airborne delay                8789 non-null float64\n",
      "average taxi in delay                 8789 non-null float64\n",
      "average block delay                   8789 non-null float64\n",
      "average gate arrival delay            8789 non-null float64\n",
      "Key                                   8789 non-null float64\n",
      "LocID                                 8789 non-null object\n",
      "AP_NAME                               8789 non-null object\n",
      "ALIAS                                 8789 non-null object\n",
      "Facility Type                         8789 non-null object\n",
      "FAA REGION                            8789 non-null object\n",
      "COUNTY                                8789 non-null object\n",
      "CITY                                  8789 non-null object\n",
      "STATE                                 8789 non-null object\n",
      "AP Type                               8789 non-null object\n",
      "Latitude                              8789 non-null float64\n",
      "Longitude                             8789 non-null float64\n",
      "Boundary Data Available               8789 non-null object\n",
      "dtypes: float64(15), int64(2), object(11)\n",
      "memory usage: 1.9+ MB\n"
     ]
    }
   ],
   "source": [
    "joined_df.info()"
   ]
  },
  {
   "cell_type": "code",
   "execution_count": 26,
   "metadata": {
    "collapsed": false,
    "focus": false,
    "id": "41ff90a9-0d50-4a8e-97c4-fe429fffc1f7"
   },
   "outputs": [
    {
     "data": {
      "text/html": [
       "<div>\n",
       "<table border=\"1\" class=\"dataframe\">\n",
       "  <thead>\n",
       "    <tr style=\"text-align: right;\">\n",
       "      <th></th>\n",
       "      <th>Year</th>\n",
       "      <th>departures for metric computation</th>\n",
       "      <th>arrivals for metric computation</th>\n",
       "      <th>percent on-time gate departures</th>\n",
       "      <th>percent on-time airport departures</th>\n",
       "      <th>percent on-time gate arrivals</th>\n",
       "      <th>average_gate_departure_delay</th>\n",
       "      <th>average_taxi_out_time</th>\n",
       "      <th>average taxi out delay</th>\n",
       "      <th>average airport departure delay</th>\n",
       "      <th>average airborne delay</th>\n",
       "      <th>average taxi in delay</th>\n",
       "      <th>average block delay</th>\n",
       "      <th>average gate arrival delay</th>\n",
       "      <th>Key</th>\n",
       "      <th>Latitude</th>\n",
       "      <th>Longitude</th>\n",
       "    </tr>\n",
       "  </thead>\n",
       "  <tbody>\n",
       "    <tr>\n",
       "      <th>count</th>\n",
       "      <td>8789.000000</td>\n",
       "      <td>8789.000000</td>\n",
       "      <td>8789.000000</td>\n",
       "      <td>8789.000000</td>\n",
       "      <td>8789.000000</td>\n",
       "      <td>8789.000000</td>\n",
       "      <td>8789.000000</td>\n",
       "      <td>8789.000000</td>\n",
       "      <td>8789.000000</td>\n",
       "      <td>8789.000000</td>\n",
       "      <td>8789.000000</td>\n",
       "      <td>8789.000000</td>\n",
       "      <td>8789.000000</td>\n",
       "      <td>8789.000000</td>\n",
       "      <td>8789.000000</td>\n",
       "      <td>8789.000000</td>\n",
       "      <td>8789.000000</td>\n",
       "    </tr>\n",
       "    <tr>\n",
       "      <th>mean</th>\n",
       "      <td>2008.986233</td>\n",
       "      <td>113462.406531</td>\n",
       "      <td>112995.271248</td>\n",
       "      <td>0.778950</td>\n",
       "      <td>0.726757</td>\n",
       "      <td>0.766806</td>\n",
       "      <td>12.898230</td>\n",
       "      <td>13.873027</td>\n",
       "      <td>3.680732</td>\n",
       "      <td>15.712726</td>\n",
       "      <td>2.876105</td>\n",
       "      <td>1.413830</td>\n",
       "      <td>3.290090</td>\n",
       "      <td>13.436961</td>\n",
       "      <td>1714.484355</td>\n",
       "      <td>36.448807</td>\n",
       "      <td>-94.899998</td>\n",
       "    </tr>\n",
       "    <tr>\n",
       "      <th>std</th>\n",
       "      <td>3.156287</td>\n",
       "      <td>98013.586104</td>\n",
       "      <td>97659.402573</td>\n",
       "      <td>0.051989</td>\n",
       "      <td>0.075708</td>\n",
       "      <td>0.050351</td>\n",
       "      <td>3.020389</td>\n",
       "      <td>3.804768</td>\n",
       "      <td>2.338027</td>\n",
       "      <td>4.348108</td>\n",
       "      <td>1.168646</td>\n",
       "      <td>0.854782</td>\n",
       "      <td>0.987058</td>\n",
       "      <td>3.244237</td>\n",
       "      <td>1004.487202</td>\n",
       "      <td>6.682976</td>\n",
       "      <td>20.633247</td>\n",
       "    </tr>\n",
       "    <tr>\n",
       "      <th>min</th>\n",
       "      <td>2004.000000</td>\n",
       "      <td>360.000000</td>\n",
       "      <td>486.000000</td>\n",
       "      <td>0.529900</td>\n",
       "      <td>0.380800</td>\n",
       "      <td>0.513600</td>\n",
       "      <td>5.350000</td>\n",
       "      <td>7.040000</td>\n",
       "      <td>0.100000</td>\n",
       "      <td>6.290000</td>\n",
       "      <td>0.950000</td>\n",
       "      <td>0.000000</td>\n",
       "      <td>1.230000</td>\n",
       "      <td>6.330000</td>\n",
       "      <td>246.000000</td>\n",
       "      <td>18.439295</td>\n",
       "      <td>-157.922429</td>\n",
       "    </tr>\n",
       "    <tr>\n",
       "      <th>25%</th>\n",
       "      <td>2006.000000</td>\n",
       "      <td>41845.000000</td>\n",
       "      <td>41844.000000</td>\n",
       "      <td>0.753000</td>\n",
       "      <td>0.691800</td>\n",
       "      <td>0.742200</td>\n",
       "      <td>10.840000</td>\n",
       "      <td>11.470000</td>\n",
       "      <td>2.300000</td>\n",
       "      <td>12.890000</td>\n",
       "      <td>2.040000</td>\n",
       "      <td>0.840000</td>\n",
       "      <td>2.620000</td>\n",
       "      <td>11.270000</td>\n",
       "      <td>770.000000</td>\n",
       "      <td>32.896828</td>\n",
       "      <td>-111.977773</td>\n",
       "    </tr>\n",
       "    <tr>\n",
       "      <th>50%</th>\n",
       "      <td>2009.000000</td>\n",
       "      <td>79489.000000</td>\n",
       "      <td>79750.000000</td>\n",
       "      <td>0.783800</td>\n",
       "      <td>0.740200</td>\n",
       "      <td>0.770500</td>\n",
       "      <td>12.540000</td>\n",
       "      <td>12.940000</td>\n",
       "      <td>3.050000</td>\n",
       "      <td>15.100000</td>\n",
       "      <td>2.620000</td>\n",
       "      <td>1.140000</td>\n",
       "      <td>3.130000</td>\n",
       "      <td>12.970000</td>\n",
       "      <td>1531.000000</td>\n",
       "      <td>37.618972</td>\n",
       "      <td>-87.897068</td>\n",
       "    </tr>\n",
       "    <tr>\n",
       "      <th>75%</th>\n",
       "      <td>2012.000000</td>\n",
       "      <td>166479.000000</td>\n",
       "      <td>165955.000000</td>\n",
       "      <td>0.810700</td>\n",
       "      <td>0.773500</td>\n",
       "      <td>0.797600</td>\n",
       "      <td>14.620000</td>\n",
       "      <td>15.750000</td>\n",
       "      <td>4.230000</td>\n",
       "      <td>17.560000</td>\n",
       "      <td>3.560000</td>\n",
       "      <td>1.780000</td>\n",
       "      <td>3.800000</td>\n",
       "      <td>14.940000</td>\n",
       "      <td>2502.000000</td>\n",
       "      <td>40.795250</td>\n",
       "      <td>-80.152741</td>\n",
       "    </tr>\n",
       "    <tr>\n",
       "      <th>max</th>\n",
       "      <td>2014.000000</td>\n",
       "      <td>491826.000000</td>\n",
       "      <td>486799.000000</td>\n",
       "      <td>0.909700</td>\n",
       "      <td>0.897400</td>\n",
       "      <td>0.880300</td>\n",
       "      <td>25.840000</td>\n",
       "      <td>35.760000</td>\n",
       "      <td>18.940000</td>\n",
       "      <td>40.510000</td>\n",
       "      <td>7.820000</td>\n",
       "      <td>6.180000</td>\n",
       "      <td>7.520000</td>\n",
       "      <td>27.780000</td>\n",
       "      <td>3575.000000</td>\n",
       "      <td>61.174083</td>\n",
       "      <td>-66.002004</td>\n",
       "    </tr>\n",
       "  </tbody>\n",
       "</table>\n",
       "</div>"
      ],
      "text/plain": [
       "              Year  departures for metric computation  \\\n",
       "count  8789.000000                        8789.000000   \n",
       "mean   2008.986233                      113462.406531   \n",
       "std       3.156287                       98013.586104   \n",
       "min    2004.000000                         360.000000   \n",
       "25%    2006.000000                       41845.000000   \n",
       "50%    2009.000000                       79489.000000   \n",
       "75%    2012.000000                      166479.000000   \n",
       "max    2014.000000                      491826.000000   \n",
       "\n",
       "       arrivals for metric computation  percent on-time gate departures  \\\n",
       "count                      8789.000000                      8789.000000   \n",
       "mean                     112995.271248                         0.778950   \n",
       "std                       97659.402573                         0.051989   \n",
       "min                         486.000000                         0.529900   \n",
       "25%                       41844.000000                         0.753000   \n",
       "50%                       79750.000000                         0.783800   \n",
       "75%                      165955.000000                         0.810700   \n",
       "max                      486799.000000                         0.909700   \n",
       "\n",
       "       percent on-time airport departures  percent on-time gate arrivals  \\\n",
       "count                         8789.000000                    8789.000000   \n",
       "mean                             0.726757                       0.766806   \n",
       "std                              0.075708                       0.050351   \n",
       "min                              0.380800                       0.513600   \n",
       "25%                              0.691800                       0.742200   \n",
       "50%                              0.740200                       0.770500   \n",
       "75%                              0.773500                       0.797600   \n",
       "max                              0.897400                       0.880300   \n",
       "\n",
       "       average_gate_departure_delay  average_taxi_out_time  \\\n",
       "count                   8789.000000            8789.000000   \n",
       "mean                      12.898230              13.873027   \n",
       "std                        3.020389               3.804768   \n",
       "min                        5.350000               7.040000   \n",
       "25%                       10.840000              11.470000   \n",
       "50%                       12.540000              12.940000   \n",
       "75%                       14.620000              15.750000   \n",
       "max                       25.840000              35.760000   \n",
       "\n",
       "       average taxi out delay  average airport departure delay  \\\n",
       "count             8789.000000                      8789.000000   \n",
       "mean                 3.680732                        15.712726   \n",
       "std                  2.338027                         4.348108   \n",
       "min                  0.100000                         6.290000   \n",
       "25%                  2.300000                        12.890000   \n",
       "50%                  3.050000                        15.100000   \n",
       "75%                  4.230000                        17.560000   \n",
       "max                 18.940000                        40.510000   \n",
       "\n",
       "       average airborne delay  average taxi in delay  average block delay  \\\n",
       "count             8789.000000            8789.000000          8789.000000   \n",
       "mean                 2.876105               1.413830             3.290090   \n",
       "std                  1.168646               0.854782             0.987058   \n",
       "min                  0.950000               0.000000             1.230000   \n",
       "25%                  2.040000               0.840000             2.620000   \n",
       "50%                  2.620000               1.140000             3.130000   \n",
       "75%                  3.560000               1.780000             3.800000   \n",
       "max                  7.820000               6.180000             7.520000   \n",
       "\n",
       "       average gate arrival delay          Key     Latitude    Longitude  \n",
       "count                 8789.000000  8789.000000  8789.000000  8789.000000  \n",
       "mean                    13.436961  1714.484355    36.448807   -94.899998  \n",
       "std                      3.244237  1004.487202     6.682976    20.633247  \n",
       "min                      6.330000   246.000000    18.439295  -157.922429  \n",
       "25%                     11.270000   770.000000    32.896828  -111.977773  \n",
       "50%                     12.970000  1531.000000    37.618972   -87.897068  \n",
       "75%                     14.940000  2502.000000    40.795250   -80.152741  \n",
       "max                     27.780000  3575.000000    61.174083   -66.002004  "
      ]
     },
     "execution_count": 26,
     "metadata": {},
     "output_type": "execute_result"
    }
   ],
   "source": [
    "joined_df.describe()"
   ]
  },
  {
   "cell_type": "code",
   "execution_count": 27,
   "metadata": {
    "collapsed": false
   },
   "outputs": [
    {
     "data": {
      "text/plain": [
       "Index([u'Airport', u'Year', u'departures for metric computation',\n",
       "       u'arrivals for metric computation', u'percent on-time gate departures',\n",
       "       u'percent on-time airport departures', u'percent on-time gate arrivals',\n",
       "       u'average_gate_departure_delay', u'average_taxi_out_time',\n",
       "       u'average taxi out delay', u'average airport departure delay',\n",
       "       u'average airborne delay', u'average taxi in delay',\n",
       "       u'average block delay', u'average gate arrival delay', u'Key', u'LocID',\n",
       "       u'AP_NAME', u'ALIAS', u'Facility Type', u'FAA REGION', u'COUNTY',\n",
       "       u'CITY', u'STATE', u'AP Type', u'Latitude', u'Longitude',\n",
       "       u'Boundary Data Available'],\n",
       "      dtype='object')"
      ]
     },
     "execution_count": 27,
     "metadata": {},
     "output_type": "execute_result"
    }
   ],
   "source": [
    "joined_df.columns"
   ]
  },
  {
   "cell_type": "code",
   "execution_count": 28,
   "metadata": {
    "collapsed": false
   },
   "outputs": [
    {
     "data": {
      "text/plain": [
       "<matplotlib.axes._subplots.AxesSubplot at 0x11cc63850>"
      ]
     },
     "execution_count": 28,
     "metadata": {},
     "output_type": "execute_result"
    },
    {
     "data": {
      "image/png": "[encoded data removed]",
      "text/plain": [
       "<matplotlib.figure.Figure at 0x11ce12e90>"
      ]
     },
     "metadata": {},
     "output_type": "display_data"
    }
   ],
   "source": [
    "sns.distplot(joined_df['average taxi out delay'], hist=True, color=\"y\")"
   ]
  },
  {
   "cell_type": "code",
   "execution_count": 29,
   "metadata": {
    "collapsed": false
   },
   "outputs": [
    {
     "data": {
      "text/plain": [
       "<matplotlib.axes._subplots.AxesSubplot at 0x11d727b50>"
      ]
     },
     "execution_count": 29,
     "metadata": {},
     "output_type": "execute_result"
    },
    {
     "data": {
      "image/png": "[encoded data removed]",
      "text/plain": [
       "<matplotlib.figure.Figure at 0x11d744810>"
      ]
     },
     "metadata": {},
     "output_type": "display_data"
    }
   ],
   "source": [
    "sns.distplot(joined_df['average_taxi_out_time'], hist=True, color=\"b\")"
   ]
  },
  {
   "cell_type": "code",
   "execution_count": 30,
   "metadata": {
    "collapsed": false
   },
   "outputs": [
    {
     "data": {
      "text/plain": [
       "<matplotlib.axes._subplots.AxesSubplot at 0x11cc83ad0>"
      ]
     },
     "execution_count": 30,
     "metadata": {},
     "output_type": "execute_result"
    },
    {
     "data": {
      "image/png": "[encoded data removed]",
      "text/plain": [
       "<matplotlib.figure.Figure at 0x11d91ed10>"
      ]
     },
     "metadata": {},
     "output_type": "display_data"
    }
   ],
   "source": [
    "sns.distplot(joined_df['average airport departure delay'], hist=True, color=\"r\")"
   ]
  },
  {
   "cell_type": "code",
   "execution_count": 31,
   "metadata": {
    "collapsed": false
   },
   "outputs": [
    {
     "data": {
      "text/plain": [
       "<matplotlib.axes._subplots.AxesSubplot at 0x11da41950>"
      ]
     },
     "execution_count": 31,
     "metadata": {},
     "output_type": "execute_result"
    },
    {
     "data": {
      "image/png": "[encoded data removed]",
      "text/plain": [
       "<matplotlib.figure.Figure at 0x11da83690>"
      ]
     },
     "metadata": {},
     "output_type": "display_data"
    }
   ],
   "source": [
    "sns.distplot(joined_df['average airborne delay'], hist=True, color=\"g\")"
   ]
  },
  {
   "cell_type": "code",
   "execution_count": 32,
   "metadata": {
    "collapsed": false
   },
   "outputs": [
    {
     "data": {
      "text/plain": [
       "<matplotlib.axes._subplots.AxesSubplot at 0x11de23290>"
      ]
     },
     "execution_count": 32,
     "metadata": {},
     "output_type": "execute_result"
    },
    {
     "data": {
      "image/png": "[encoded data removed]",
      "text/plain": [
       "<matplotlib.figure.Figure at 0x11ded3b10>"
      ]
     },
     "metadata": {},
     "output_type": "display_data"
    }
   ],
   "source": [
    "sns.distplot(joined_df['average taxi in delay'], hist=True, color=\"y\")"
   ]
  },
  {
   "cell_type": "code",
   "execution_count": 33,
   "metadata": {
    "collapsed": false
   },
   "outputs": [
    {
     "data": {
      "text/plain": [
       "<matplotlib.axes._subplots.AxesSubplot at 0x11dff8650>"
      ]
     },
     "execution_count": 33,
     "metadata": {},
     "output_type": "execute_result"
    },
    {
     "data": {
      "image/png": "[encoded data removed]",
      "text/plain": [
       "<matplotlib.figure.Figure at 0x11ded3290>"
      ]
     },
     "metadata": {},
     "output_type": "display_data"
    }
   ],
   "source": [
    "sns.distplot(joined_df['average block delay'], hist=True, color=\"b\")"
   ]
  },
  {
   "cell_type": "code",
   "execution_count": 34,
   "metadata": {
    "collapsed": false
   },
   "outputs": [
    {
     "data": {
      "text/plain": [
       "<matplotlib.axes._subplots.AxesSubplot at 0x11ded33d0>"
      ]
     },
     "execution_count": 34,
     "metadata": {},
     "output_type": "execute_result"
    },
    {
     "data": {
      "image/png": "[encoded data removed]",
      "text/plain": [
       "<matplotlib.figure.Figure at 0x11e470410>"
      ]
     },
     "metadata": {},
     "output_type": "display_data"
    }
   ],
   "source": [
    "sns.distplot(joined_df['average airport departure delay'], hist=True, color=\"r\")"
   ]
  },
  {
   "cell_type": "markdown",
   "metadata": {},
   "source": [
    "Here we see the features and how they are distruted based on their histograms"
   ]
  },
  {
   "cell_type": "markdown",
   "metadata": {
    "focus": false,
    "id": "3d12188d-3aa9-4d47-a0e8-b5d6e8f071de"
   },
   "source": [
    "#### Are there any unique values? "
   ]
  },
  {
   "cell_type": "code",
   "execution_count": 35,
   "metadata": {
    "collapsed": false
   },
   "outputs": [
    {
     "data": {
      "text/plain": [
       "array(['ABQ', 'ANC', 'ATL', 'AUS', 'BDL', 'BHM', 'BNA', 'BOS', 'BUF',\n",
       "       'BUR', 'BWI', 'CLE', 'CLT', 'CVG', 'DAL', 'DAY', 'DCA', 'DEN',\n",
       "       'DFW', 'DTW', 'EWR', 'FLL', 'HNL', 'HOU', 'HPN', 'IAD', 'IAH',\n",
       "       'IND', 'ISP', 'JAX', 'JFK', 'LAS', 'LAX', 'LGA', 'LGB', 'MCI',\n",
       "       'MCO', 'MDW', 'MEM', 'MHT', 'MIA', 'MKE', 'MSP', 'MSY', 'OAK',\n",
       "       'OGG', 'OMA', 'ONT', 'ORD', 'OXR', 'PBI', 'PDX', 'PHL', 'PHX',\n",
       "       'PIT', 'PSP', 'PVD', 'RDU', 'RFD', 'RSW', 'SAN', 'SAT', 'SDF',\n",
       "       'SEA', 'SFO', 'SJC', 'SJU', 'SLC', 'SMF', 'SNA', 'STL', 'SWF',\n",
       "       'TPA', 'TUS'], dtype=object)"
      ]
     },
     "execution_count": 35,
     "metadata": {},
     "output_type": "execute_result"
    }
   ],
   "source": [
    "joined_df['Airport'].unique()"
   ]
  },
  {
   "cell_type": "code",
   "execution_count": 36,
   "metadata": {
    "collapsed": false
   },
   "outputs": [
    {
     "data": {
      "text/plain": [
       "74"
      ]
     },
     "execution_count": 36,
     "metadata": {},
     "output_type": "execute_result"
    }
   ],
   "source": [
    "joined_df['Airport'].nunique()"
   ]
  },
  {
   "cell_type": "code",
   "execution_count": 37,
   "metadata": {
    "collapsed": false
   },
   "outputs": [
    {
     "data": {
      "text/plain": [
       "array(['ASW', 'AAL', 'ASO', 'ANE', 'AEA', 'AWP', 'AGL', 'ANM', 'ACE'], dtype=object)"
      ]
     },
     "execution_count": 37,
     "metadata": {},
     "output_type": "execute_result"
    }
   ],
   "source": [
    "joined_df['FAA REGION'].unique()"
   ]
  },
  {
   "cell_type": "markdown",
   "metadata": {
    "focus": false,
    "id": "e2ddc27c-94d6-4ab1-95ef-1093bb2726b0"
   },
   "source": [
    "### Part 3: Data Mining"
   ]
  },
  {
   "cell_type": "markdown",
   "metadata": {
    "focus": false,
    "id": "a746fd8c-fdb0-45c3-9e17-ad4c89360055"
   },
   "source": [
    "#### 3.1 Create Dummy Variables"
   ]
  },
  {
   "cell_type": "code",
   "execution_count": 38,
   "metadata": {
    "collapsed": true
   },
   "outputs": [],
   "source": [
    "from sklearn.preprocessing import LabelEncoder"
   ]
  },
  {
   "cell_type": "code",
   "execution_count": 39,
   "metadata": {
    "collapsed": true
   },
   "outputs": [],
   "source": [
    "joined_df['FAA REGION'] = LabelEncoder().fit_transform(joined_df['FAA REGION'])\n",
    "joined_df['Year'] = LabelEncoder().fit_transform(joined_df['Year'])"
   ]
  },
  {
   "cell_type": "code",
   "execution_count": 40,
   "metadata": {
    "collapsed": true
   },
   "outputs": [],
   "source": [
    "feature_list = ['departures for metric computation',\n",
    "                'arrivals for metric computation',\n",
    "                'percent on-time gate arrivals',\n",
    "                'percent on-time airport departures',\n",
    "                'percent on-time gate departures',\n",
    "                'percent '\n",
    "                'average_gate_departure_delay',\n",
    "                'average_taxi_out_time',\n",
    "                'average airborne delay',\n",
    "                'average taxi in delay',\n",
    "                'average block delay',\n",
    "                'average gate arrival delay',\n",
    "                'average airport departure delay',\n",
    "                'Year',\n",
    "                'FAA REGION'\n",
    "               ]"
   ]
  },
  {
   "cell_type": "code",
   "execution_count": 41,
   "metadata": {
    "collapsed": false
   },
   "outputs": [],
   "source": [
    "airport_grouped = joined_df.drop(['Key','Latitude','Longitude'],axis=1).pivot_table(feature_list, index=['Airport'], \n",
    "                                                                                     aggfunc=np.mean)\n"
   ]
  },
  {
   "cell_type": "code",
   "execution_count": 42,
   "metadata": {
    "collapsed": false
   },
   "outputs": [
    {
     "name": "stdout",
     "output_type": "stream",
     "text": [
      "<class 'pandas.core.frame.DataFrame'>\n",
      "Index: 74 entries, ABQ to TUS\n",
      "Data columns (total 13 columns):\n",
      "FAA REGION                            74 non-null float64\n",
      "Year                                  74 non-null float64\n",
      "arrivals for metric computation       74 non-null float64\n",
      "average airborne delay                74 non-null float64\n",
      "average airport departure delay       74 non-null float64\n",
      "average block delay                   74 non-null float64\n",
      "average gate arrival delay            74 non-null float64\n",
      "average taxi in delay                 74 non-null float64\n",
      "average_taxi_out_time                 74 non-null float64\n",
      "departures for metric computation     74 non-null float64\n",
      "percent on-time airport departures    74 non-null float64\n",
      "percent on-time gate arrivals         74 non-null float64\n",
      "percent on-time gate departures       74 non-null float64\n",
      "dtypes: float64(13)\n",
      "memory usage: 8.1+ KB\n"
     ]
    }
   ],
   "source": [
    "airport_grouped.info()"
   ]
  },
  {
   "cell_type": "markdown",
   "metadata": {
    "focus": false,
    "id": "c9b12f39-5410-42d7-aff9-859c0b2ccb70"
   },
   "source": [
    "#### 3.2 Format and Clean the Data"
   ]
  },
  {
   "cell_type": "code",
   "execution_count": 43,
   "metadata": {
    "collapsed": true
   },
   "outputs": [],
   "source": [
    "#STANDARDIZE/ NORMALIZE THE DATA BEFORE PROCEEDING "
   ]
  },
  {
   "cell_type": "markdown",
   "metadata": {
    "focus": false,
    "id": "27db8e3b-27d2-4420-bbab-1ddbba3dc3e5"
   },
   "source": [
    "### Part 4: Define the Data"
   ]
  },
  {
   "cell_type": "markdown",
   "metadata": {
    "focus": false,
    "id": "9bcb3ba6-8c35-470c-a821-47d7ba6a32f2"
   },
   "source": [
    "#### 4.1 Confirm that the dataset has a normal distribution. How can you tell? "
   ]
  },
  {
   "cell_type": "code",
   "execution_count": 44,
   "metadata": {
    "collapsed": false,
    "focus": false,
    "id": "9c365cbd-7b6d-46bf-b4e4-b0e2e7bd5ff6"
   },
   "outputs": [],
   "source": [
    "#Airport_clean_Data.plot(kind='hist',stacked=False)"
   ]
  },
  {
   "cell_type": "markdown",
   "metadata": {
    "focus": false,
    "id": "17457da4-1175-4348-b10a-99f41f7a24dd"
   },
   "source": [
    "#### 4.2 Find correlations in the data"
   ]
  },
  {
   "cell_type": "code",
   "execution_count": 45,
   "metadata": {
    "collapsed": false
   },
   "outputs": [
    {
     "data": {
      "text/html": [
       "<div>\n",
       "<table border=\"1\" class=\"dataframe\">\n",
       "  <thead>\n",
       "    <tr style=\"text-align: right;\">\n",
       "      <th></th>\n",
       "      <th>FAA REGION</th>\n",
       "      <th>Year</th>\n",
       "      <th>arrivals for metric computation</th>\n",
       "      <th>average airborne delay</th>\n",
       "      <th>average airport departure delay</th>\n",
       "      <th>average block delay</th>\n",
       "      <th>average gate arrival delay</th>\n",
       "      <th>average taxi in delay</th>\n",
       "      <th>average_taxi_out_time</th>\n",
       "      <th>departures for metric computation</th>\n",
       "      <th>percent on-time airport departures</th>\n",
       "      <th>percent on-time gate arrivals</th>\n",
       "      <th>percent on-time gate departures</th>\n",
       "    </tr>\n",
       "  </thead>\n",
       "  <tbody>\n",
       "    <tr>\n",
       "      <th>FAA REGION</th>\n",
       "      <td>1.000000</td>\n",
       "      <td>-0.162208</td>\n",
       "      <td>-0.050973</td>\n",
       "      <td>-0.514199</td>\n",
       "      <td>-0.479612</td>\n",
       "      <td>-0.343853</td>\n",
       "      <td>-0.496506</td>\n",
       "      <td>-0.031753</td>\n",
       "      <td>-0.307878</td>\n",
       "      <td>-0.052307</td>\n",
       "      <td>0.388093</td>\n",
       "      <td>0.360879</td>\n",
       "      <td>0.302900</td>\n",
       "    </tr>\n",
       "    <tr>\n",
       "      <th>Year</th>\n",
       "      <td>-0.162208</td>\n",
       "      <td>1.000000</td>\n",
       "      <td>0.098014</td>\n",
       "      <td>0.127176</td>\n",
       "      <td>0.195366</td>\n",
       "      <td>0.165563</td>\n",
       "      <td>0.134110</td>\n",
       "      <td>0.089439</td>\n",
       "      <td>0.095709</td>\n",
       "      <td>0.098108</td>\n",
       "      <td>-0.172395</td>\n",
       "      <td>-0.142598</td>\n",
       "      <td>-0.188941</td>\n",
       "    </tr>\n",
       "    <tr>\n",
       "      <th>arrivals for metric computation</th>\n",
       "      <td>-0.050973</td>\n",
       "      <td>0.098014</td>\n",
       "      <td>1.000000</td>\n",
       "      <td>0.449196</td>\n",
       "      <td>0.442130</td>\n",
       "      <td>0.425136</td>\n",
       "      <td>0.119027</td>\n",
       "      <td>0.907556</td>\n",
       "      <td>0.658976</td>\n",
       "      <td>0.999912</td>\n",
       "      <td>-0.438513</td>\n",
       "      <td>0.133266</td>\n",
       "      <td>-0.070719</td>\n",
       "    </tr>\n",
       "    <tr>\n",
       "      <th>average airborne delay</th>\n",
       "      <td>-0.514199</td>\n",
       "      <td>0.127176</td>\n",
       "      <td>0.449196</td>\n",
       "      <td>1.000000</td>\n",
       "      <td>0.684100</td>\n",
       "      <td>0.539286</td>\n",
       "      <td>0.459688</td>\n",
       "      <td>0.444552</td>\n",
       "      <td>0.709142</td>\n",
       "      <td>0.450347</td>\n",
       "      <td>-0.677491</td>\n",
       "      <td>-0.272105</td>\n",
       "      <td>-0.331549</td>\n",
       "    </tr>\n",
       "    <tr>\n",
       "      <th>average airport departure delay</th>\n",
       "      <td>-0.479612</td>\n",
       "      <td>0.195366</td>\n",
       "      <td>0.442130</td>\n",
       "      <td>0.684100</td>\n",
       "      <td>1.000000</td>\n",
       "      <td>0.629922</td>\n",
       "      <td>0.834090</td>\n",
       "      <td>0.543865</td>\n",
       "      <td>0.736742</td>\n",
       "      <td>0.443657</td>\n",
       "      <td>-0.956902</td>\n",
       "      <td>-0.686489</td>\n",
       "      <td>-0.737600</td>\n",
       "    </tr>\n",
       "    <tr>\n",
       "      <th>average block delay</th>\n",
       "      <td>-0.343853</td>\n",
       "      <td>0.165563</td>\n",
       "      <td>0.425136</td>\n",
       "      <td>0.539286</td>\n",
       "      <td>0.629922</td>\n",
       "      <td>1.000000</td>\n",
       "      <td>0.645255</td>\n",
       "      <td>0.507312</td>\n",
       "      <td>0.676789</td>\n",
       "      <td>0.428616</td>\n",
       "      <td>-0.576380</td>\n",
       "      <td>-0.463724</td>\n",
       "      <td>-0.342425</td>\n",
       "    </tr>\n",
       "    <tr>\n",
       "      <th>average gate arrival delay</th>\n",
       "      <td>-0.496506</td>\n",
       "      <td>0.134110</td>\n",
       "      <td>0.119027</td>\n",
       "      <td>0.459688</td>\n",
       "      <td>0.834090</td>\n",
       "      <td>0.645255</td>\n",
       "      <td>1.000000</td>\n",
       "      <td>0.253202</td>\n",
       "      <td>0.480302</td>\n",
       "      <td>0.120514</td>\n",
       "      <td>-0.745386</td>\n",
       "      <td>-0.913153</td>\n",
       "      <td>-0.692799</td>\n",
       "    </tr>\n",
       "    <tr>\n",
       "      <th>average taxi in delay</th>\n",
       "      <td>-0.031753</td>\n",
       "      <td>0.089439</td>\n",
       "      <td>0.907556</td>\n",
       "      <td>0.444552</td>\n",
       "      <td>0.543865</td>\n",
       "      <td>0.507312</td>\n",
       "      <td>0.253202</td>\n",
       "      <td>1.000000</td>\n",
       "      <td>0.727164</td>\n",
       "      <td>0.908468</td>\n",
       "      <td>-0.522638</td>\n",
       "      <td>-0.009820</td>\n",
       "      <td>-0.150415</td>\n",
       "    </tr>\n",
       "    <tr>\n",
       "      <th>average_taxi_out_time</th>\n",
       "      <td>-0.307878</td>\n",
       "      <td>0.095709</td>\n",
       "      <td>0.658976</td>\n",
       "      <td>0.709142</td>\n",
       "      <td>0.736742</td>\n",
       "      <td>0.676789</td>\n",
       "      <td>0.480302</td>\n",
       "      <td>0.727164</td>\n",
       "      <td>1.000000</td>\n",
       "      <td>0.661041</td>\n",
       "      <td>-0.690061</td>\n",
       "      <td>-0.224834</td>\n",
       "      <td>-0.184043</td>\n",
       "    </tr>\n",
       "    <tr>\n",
       "      <th>departures for metric computation</th>\n",
       "      <td>-0.052307</td>\n",
       "      <td>0.098108</td>\n",
       "      <td>0.999912</td>\n",
       "      <td>0.450347</td>\n",
       "      <td>0.443657</td>\n",
       "      <td>0.428616</td>\n",
       "      <td>0.120514</td>\n",
       "      <td>0.908468</td>\n",
       "      <td>0.661041</td>\n",
       "      <td>1.000000</td>\n",
       "      <td>-0.439424</td>\n",
       "      <td>0.132875</td>\n",
       "      <td>-0.071428</td>\n",
       "    </tr>\n",
       "    <tr>\n",
       "      <th>percent on-time airport departures</th>\n",
       "      <td>0.388093</td>\n",
       "      <td>-0.172395</td>\n",
       "      <td>-0.438513</td>\n",
       "      <td>-0.677491</td>\n",
       "      <td>-0.956902</td>\n",
       "      <td>-0.576380</td>\n",
       "      <td>-0.745386</td>\n",
       "      <td>-0.522638</td>\n",
       "      <td>-0.690061</td>\n",
       "      <td>-0.439424</td>\n",
       "      <td>1.000000</td>\n",
       "      <td>0.667137</td>\n",
       "      <td>0.803521</td>\n",
       "    </tr>\n",
       "    <tr>\n",
       "      <th>percent on-time gate arrivals</th>\n",
       "      <td>0.360879</td>\n",
       "      <td>-0.142598</td>\n",
       "      <td>0.133266</td>\n",
       "      <td>-0.272105</td>\n",
       "      <td>-0.686489</td>\n",
       "      <td>-0.463724</td>\n",
       "      <td>-0.913153</td>\n",
       "      <td>-0.009820</td>\n",
       "      <td>-0.224834</td>\n",
       "      <td>0.132875</td>\n",
       "      <td>0.667137</td>\n",
       "      <td>1.000000</td>\n",
       "      <td>0.789941</td>\n",
       "    </tr>\n",
       "    <tr>\n",
       "      <th>percent on-time gate departures</th>\n",
       "      <td>0.302900</td>\n",
       "      <td>-0.188941</td>\n",
       "      <td>-0.070719</td>\n",
       "      <td>-0.331549</td>\n",
       "      <td>-0.737600</td>\n",
       "      <td>-0.342425</td>\n",
       "      <td>-0.692799</td>\n",
       "      <td>-0.150415</td>\n",
       "      <td>-0.184043</td>\n",
       "      <td>-0.071428</td>\n",
       "      <td>0.803521</td>\n",
       "      <td>0.789941</td>\n",
       "      <td>1.000000</td>\n",
       "    </tr>\n",
       "  </tbody>\n",
       "</table>\n",
       "</div>"
      ],
      "text/plain": [
       "                                    FAA REGION      Year  \\\n",
       "FAA REGION                            1.000000 -0.162208   \n",
       "Year                                 -0.162208  1.000000   \n",
       "arrivals for metric computation      -0.050973  0.098014   \n",
       "average airborne delay               -0.514199  0.127176   \n",
       "average airport departure delay      -0.479612  0.195366   \n",
       "average block delay                  -0.343853  0.165563   \n",
       "average gate arrival delay           -0.496506  0.134110   \n",
       "average taxi in delay                -0.031753  0.089439   \n",
       "average_taxi_out_time                -0.307878  0.095709   \n",
       "departures for metric computation    -0.052307  0.098108   \n",
       "percent on-time airport departures    0.388093 -0.172395   \n",
       "percent on-time gate arrivals         0.360879 -0.142598   \n",
       "percent on-time gate departures       0.302900 -0.188941   \n",
       "\n",
       "                                    arrivals for metric computation  \\\n",
       "FAA REGION                                                -0.050973   \n",
       "Year                                                       0.098014   \n",
       "arrivals for metric computation                            1.000000   \n",
       "average airborne delay                                     0.449196   \n",
       "average airport departure delay                            0.442130   \n",
       "average block delay                                        0.425136   \n",
       "average gate arrival delay                                 0.119027   \n",
       "average taxi in delay                                      0.907556   \n",
       "average_taxi_out_time                                      0.658976   \n",
       "departures for metric computation                          0.999912   \n",
       "percent on-time airport departures                        -0.438513   \n",
       "percent on-time gate arrivals                              0.133266   \n",
       "percent on-time gate departures                           -0.070719   \n",
       "\n",
       "                                    average airborne delay  \\\n",
       "FAA REGION                                       -0.514199   \n",
       "Year                                              0.127176   \n",
       "arrivals for metric computation                   0.449196   \n",
       "average airborne delay                            1.000000   \n",
       "average airport departure delay                   0.684100   \n",
       "average block delay                               0.539286   \n",
       "average gate arrival delay                        0.459688   \n",
       "average taxi in delay                             0.444552   \n",
       "average_taxi_out_time                             0.709142   \n",
       "departures for metric computation                 0.450347   \n",
       "percent on-time airport departures               -0.677491   \n",
       "percent on-time gate arrivals                    -0.272105   \n",
       "percent on-time gate departures                  -0.331549   \n",
       "\n",
       "                                    average airport departure delay  \\\n",
       "FAA REGION                                                -0.479612   \n",
       "Year                                                       0.195366   \n",
       "arrivals for metric computation                            0.442130   \n",
       "average airborne delay                                     0.684100   \n",
       "average airport departure delay                            1.000000   \n",
       "average block delay                                        0.629922   \n",
       "average gate arrival delay                                 0.834090   \n",
       "average taxi in delay                                      0.543865   \n",
       "average_taxi_out_time                                      0.736742   \n",
       "departures for metric computation                          0.443657   \n",
       "percent on-time airport departures                        -0.956902   \n",
       "percent on-time gate arrivals                             -0.686489   \n",
       "percent on-time gate departures                           -0.737600   \n",
       "\n",
       "                                    average block delay  \\\n",
       "FAA REGION                                    -0.343853   \n",
       "Year                                           0.165563   \n",
       "arrivals for metric computation                0.425136   \n",
       "average airborne delay                         0.539286   \n",
       "average airport departure delay                0.629922   \n",
       "average block delay                            1.000000   \n",
       "average gate arrival delay                     0.645255   \n",
       "average taxi in delay                          0.507312   \n",
       "average_taxi_out_time                          0.676789   \n",
       "departures for metric computation              0.428616   \n",
       "percent on-time airport departures            -0.576380   \n",
       "percent on-time gate arrivals                 -0.463724   \n",
       "percent on-time gate departures               -0.342425   \n",
       "\n",
       "                                    average gate arrival delay  \\\n",
       "FAA REGION                                           -0.496506   \n",
       "Year                                                  0.134110   \n",
       "arrivals for metric computation                       0.119027   \n",
       "average airborne delay                                0.459688   \n",
       "average airport departure delay                       0.834090   \n",
       "average block delay                                   0.645255   \n",
       "average gate arrival delay                            1.000000   \n",
       "average taxi in delay                                 0.253202   \n",
       "average_taxi_out_time                                 0.480302   \n",
       "departures for metric computation                     0.120514   \n",
       "percent on-time airport departures                   -0.745386   \n",
       "percent on-time gate arrivals                        -0.913153   \n",
       "percent on-time gate departures                      -0.692799   \n",
       "\n",
       "                                    average taxi in delay  \\\n",
       "FAA REGION                                      -0.031753   \n",
       "Year                                             0.089439   \n",
       "arrivals for metric computation                  0.907556   \n",
       "average airborne delay                           0.444552   \n",
       "average airport departure delay                  0.543865   \n",
       "average block delay                              0.507312   \n",
       "average gate arrival delay                       0.253202   \n",
       "average taxi in delay                            1.000000   \n",
       "average_taxi_out_time                            0.727164   \n",
       "departures for metric computation                0.908468   \n",
       "percent on-time airport departures              -0.522638   \n",
       "percent on-time gate arrivals                   -0.009820   \n",
       "percent on-time gate departures                 -0.150415   \n",
       "\n",
       "                                    average_taxi_out_time  \\\n",
       "FAA REGION                                      -0.307878   \n",
       "Year                                             0.095709   \n",
       "arrivals for metric computation                  0.658976   \n",
       "average airborne delay                           0.709142   \n",
       "average airport departure delay                  0.736742   \n",
       "average block delay                              0.676789   \n",
       "average gate arrival delay                       0.480302   \n",
       "average taxi in delay                            0.727164   \n",
       "average_taxi_out_time                            1.000000   \n",
       "departures for metric computation                0.661041   \n",
       "percent on-time airport departures              -0.690061   \n",
       "percent on-time gate arrivals                   -0.224834   \n",
       "percent on-time gate departures                 -0.184043   \n",
       "\n",
       "                                    departures for metric computation  \\\n",
       "FAA REGION                                                  -0.052307   \n",
       "Year                                                         0.098108   \n",
       "arrivals for metric computation                              0.999912   \n",
       "average airborne delay                                       0.450347   \n",
       "average airport departure delay                              0.443657   \n",
       "average block delay                                          0.428616   \n",
       "average gate arrival delay                                   0.120514   \n",
       "average taxi in delay                                        0.908468   \n",
       "average_taxi_out_time                                        0.661041   \n",
       "departures for metric computation                            1.000000   \n",
       "percent on-time airport departures                          -0.439424   \n",
       "percent on-time gate arrivals                                0.132875   \n",
       "percent on-time gate departures                             -0.071428   \n",
       "\n",
       "                                    percent on-time airport departures  \\\n",
       "FAA REGION                                                    0.388093   \n",
       "Year                                                         -0.172395   \n",
       "arrivals for metric computation                              -0.438513   \n",
       "average airborne delay                                       -0.677491   \n",
       "average airport departure delay                              -0.956902   \n",
       "average block delay                                          -0.576380   \n",
       "average gate arrival delay                                   -0.745386   \n",
       "average taxi in delay                                        -0.522638   \n",
       "average_taxi_out_time                                        -0.690061   \n",
       "departures for metric computation                            -0.439424   \n",
       "percent on-time airport departures                            1.000000   \n",
       "percent on-time gate arrivals                                 0.667137   \n",
       "percent on-time gate departures                               0.803521   \n",
       "\n",
       "                                    percent on-time gate arrivals  \\\n",
       "FAA REGION                                               0.360879   \n",
       "Year                                                    -0.142598   \n",
       "arrivals for metric computation                          0.133266   \n",
       "average airborne delay                                  -0.272105   \n",
       "average airport departure delay                         -0.686489   \n",
       "average block delay                                     -0.463724   \n",
       "average gate arrival delay                              -0.913153   \n",
       "average taxi in delay                                   -0.009820   \n",
       "average_taxi_out_time                                   -0.224834   \n",
       "departures for metric computation                        0.132875   \n",
       "percent on-time airport departures                       0.667137   \n",
       "percent on-time gate arrivals                            1.000000   \n",
       "percent on-time gate departures                          0.789941   \n",
       "\n",
       "                                    percent on-time gate departures  \n",
       "FAA REGION                                                 0.302900  \n",
       "Year                                                      -0.188941  \n",
       "arrivals for metric computation                           -0.070719  \n",
       "average airborne delay                                    -0.331549  \n",
       "average airport departure delay                           -0.737600  \n",
       "average block delay                                       -0.342425  \n",
       "average gate arrival delay                                -0.692799  \n",
       "average taxi in delay                                     -0.150415  \n",
       "average_taxi_out_time                                     -0.184043  \n",
       "departures for metric computation                         -0.071428  \n",
       "percent on-time airport departures                         0.803521  \n",
       "percent on-time gate arrivals                              0.789941  \n",
       "percent on-time gate departures                            1.000000  "
      ]
     },
     "execution_count": 45,
     "metadata": {},
     "output_type": "execute_result"
    }
   ],
   "source": [
    "airport_grouped.corr()"
   ]
  },
  {
   "cell_type": "code",
   "execution_count": 46,
   "metadata": {
    "collapsed": false
   },
   "outputs": [
    {
     "data": {
      "text/plain": [
       "<matplotlib.axes._subplots.AxesSubplot at 0x11e905f90>"
      ]
     },
     "execution_count": 46,
     "metadata": {},
     "output_type": "execute_result"
    },
    {
     "data": {
      "image/png": "[encoded data removed]",
      "text/plain": [
       "<matplotlib.figure.Figure at 0x11e9058d0>"
      ]
     },
     "metadata": {},
     "output_type": "display_data"
    }
   ],
   "source": [
    "sns.heatmap(airport_grouped.corr(),annot=True) "
   ]
  },
  {
   "cell_type": "markdown",
   "metadata": {
    "focus": false,
    "id": "886b49bf-d7fa-41b0-b94c-740345580d88"
   },
   "source": [
    "#### 4.3 What is the value of understanding correlations before PCA? "
   ]
  },
  {
   "cell_type": "markdown",
   "metadata": {
    "focus": false,
    "id": "192df272-c2b1-46da-bcfa-c2b02d7445a8"
   },
   "source": [
    "Answer: "
   ]
  },
  {
   "cell_type": "markdown",
   "metadata": {
    "focus": false,
    "id": "904cda18-4a60-4b05-8502-139beb44c1f0"
   },
   "source": [
    "#### 4.4 Validate your findings using statistical analysis"
   ]
  },
  {
   "cell_type": "code",
   "execution_count": 47,
   "metadata": {
    "collapsed": true
   },
   "outputs": [],
   "source": [
    "#TRY CLUSTERING THE NEW DATA "
   ]
  },
  {
   "cell_type": "code",
   "execution_count": 48,
   "metadata": {
    "collapsed": true
   },
   "outputs": [],
   "source": [
    "from sklearn.preprocessing import StandardScaler"
   ]
  },
  {
   "cell_type": "code",
   "execution_count": 49,
   "metadata": {
    "collapsed": true
   },
   "outputs": [],
   "source": [
    "y = airport_grouped['FAA REGION']"
   ]
  },
  {
   "cell_type": "code",
   "execution_count": 50,
   "metadata": {
    "collapsed": false
   },
   "outputs": [],
   "source": [
    "airport_grouped.Year = LabelEncoder().fit_transform(airport_grouped.Year)"
   ]
  },
  {
   "cell_type": "code",
   "execution_count": 51,
   "metadata": {
    "collapsed": true
   },
   "outputs": [],
   "source": [
    "airport_grouped.drop(['FAA REGION'], axis=1, inplace=True)"
   ]
  },
  {
   "cell_type": "code",
   "execution_count": 52,
   "metadata": {
    "collapsed": true
   },
   "outputs": [],
   "source": [
    "#X = airport_grouped.values\n",
    "X = pd.DataFrame(StandardScaler().fit_transform(airport_grouped), index=airport_grouped.index, \n",
    "                 columns=airport_grouped.columns)"
   ]
  },
  {
   "cell_type": "markdown",
   "metadata": {
    "focus": false,
    "id": "87689b59-fda0-4a07-a9d3-95936deaf8ee"
   },
   "source": [
    "#### 4.5 How can you improve your overall analysis? "
   ]
  },
  {
   "cell_type": "markdown",
   "metadata": {
    "focus": false,
    "id": "000bc40d-e033-4621-82a4-e09717947fb3"
   },
   "source": [
    "Answer: "
   ]
  },
  {
   "cell_type": "markdown",
   "metadata": {
    "focus": false,
    "id": "cea5d879-f180-448a-bd50-b30b2b7d6d28"
   },
   "source": [
    "### Part 5: Perform a PCA and Present Findings"
   ]
  },
  {
   "cell_type": "markdown",
   "metadata": {
    "focus": false,
    "id": "27c1212c-3490-45ff-a6da-501075f3eee5"
   },
   "source": [
    "#### 5.1 Conduct the PCA"
   ]
  },
  {
   "cell_type": "code",
   "execution_count": 53,
   "metadata": {
    "collapsed": true
   },
   "outputs": [],
   "source": [
    "from sklearn.decomposition import PCA"
   ]
  },
  {
   "cell_type": "code",
   "execution_count": 54,
   "metadata": {
    "collapsed": false
   },
   "outputs": [
    {
     "data": {
      "text/plain": [
       "(74, 12)"
      ]
     },
     "execution_count": 54,
     "metadata": {},
     "output_type": "execute_result"
    }
   ],
   "source": [
    "X.shape"
   ]
  },
  {
   "cell_type": "code",
   "execution_count": 55,
   "metadata": {
    "collapsed": false
   },
   "outputs": [],
   "source": [
    "cov_mat = np.cov(X.T)\n",
    "eigenValues, eigenVectors = np.linalg.eig(cov_mat)"
   ]
  },
  {
   "cell_type": "code",
   "execution_count": 56,
   "metadata": {
    "collapsed": false
   },
   "outputs": [
    {
     "name": "stdout",
     "output_type": "stream",
     "text": [
      "[  6.33418431e+00   2.84905506e+00   1.02245447e+00   7.29566699e-01\n",
      "   5.89513465e-01   2.68223057e-01   1.90464292e-01   9.32026385e-02\n",
      "   5.70822316e-02   2.21931880e-02   8.37377081e-03   7.03788667e-05]\n"
     ]
    }
   ],
   "source": [
    "print eigenValues"
   ]
  },
  {
   "cell_type": "code",
   "execution_count": 57,
   "metadata": {
    "collapsed": false
   },
   "outputs": [
    {
     "name": "stdout",
     "output_type": "stream",
     "text": [
      "[[  4.06055145e-02   9.24990458e-02   9.54994475e-01  -2.38172828e-01\n",
      "   -1.77668094e-02  -1.12438035e-01   8.43228013e-02  -2.54920778e-02\n",
      "    6.22124730e-03   1.37426753e-02   1.04238240e-02  -5.07198884e-05]\n",
      " [  2.58112859e-01  -4.23761866e-01   9.40006569e-02   2.41943607e-01\n",
      "   -7.54470111e-02   1.34266683e-01   2.24101749e-01   3.31641866e-01\n",
      "    7.08898835e-02  -8.33104567e-03  -3.89670614e-02   7.04194485e-01]\n",
      " [  2.96826212e-01  -5.18045202e-02  -1.00391970e-01  -4.33479640e-01\n",
      "    6.35004970e-01   3.55493641e-01   3.58299823e-01  -2.09903556e-01\n",
      "    7.84239454e-02   5.29647164e-02  -1.50344394e-02  -6.55358341e-04]\n",
      " [  3.77945350e-01   1.33436936e-01  -1.97849605e-02   6.52608780e-02\n",
      "    1.44338582e-01  -2.47789530e-01  -7.30392636e-02   8.02615837e-02\n",
      "   -6.09551810e-01  -1.60228563e-02  -6.07351735e-01  -2.29474559e-03]\n",
      " [  3.04537785e-01   7.07484357e-03  -4.72034009e-02  -4.67309182e-01\n",
      "   -5.40728873e-01   5.11163432e-01  -3.34991007e-01   2.46048475e-02\n",
      "   -8.25120907e-02  -9.46131336e-02  -6.58297335e-02   2.65818899e-03]\n",
      " [  3.06172210e-01   3.18824082e-01  -1.31012469e-01  -5.03324792e-02\n",
      "   -2.80489492e-01  -1.88266596e-01   4.89044065e-01   4.78352498e-02\n",
      "   -3.37189747e-01   9.97386589e-02   5.52842978e-01   7.81652554e-03]\n",
      " [  2.88299818e-01  -3.55308025e-01   3.68143143e-02   2.20120826e-01\n",
      "   -1.93047655e-01  -1.36768989e-01  -1.96221270e-02  -8.27002169e-01\n",
      "    4.74272490e-03  -4.88765123e-03   2.21501690e-02   1.77999626e-03]\n",
      " [  3.32603509e-01  -1.86540238e-01  -1.18701436e-01  -3.41089694e-01\n",
      "    5.87363009e-02  -5.41675562e-01  -3.32092925e-01   1.85954553e-01\n",
      "    3.15671814e-01   4.14409242e-01   1.04902370e-01   5.48089133e-03]\n",
      " [  2.58751584e-01  -4.23587200e-01   9.34459641e-02   2.39016480e-01\n",
      "   -7.74063168e-02   1.35921819e-01   2.17520849e-01   3.28510964e-01\n",
      "    6.02208171e-02   1.02861720e-02  -2.40320589e-02  -7.09753008e-01]\n",
      " [ -3.68978702e-01  -1.36657666e-01  -4.30778033e-02  -1.57884540e-01\n",
      "   -2.67010242e-01   8.19911377e-02   3.29845164e-01  -8.65626035e-02\n",
      "   -1.11958624e-01   7.09153080e-01  -3.29574900e-01   5.98356655e-03]\n",
      " [ -2.32295821e-01  -4.52772985e-01   7.09916513e-02  -9.34191939e-02\n",
      "    2.35697495e-01   8.47993779e-02  -3.08620899e-01   3.73266767e-02\n",
      "   -6.15722636e-01   1.01404698e-01   4.22318266e-01   1.15730504e-02]\n",
      " [ -2.51981903e-01  -3.54310560e-01  -1.34959345e-01  -4.64847584e-01\n",
      "   -1.59085557e-01  -3.74587785e-01   3.09096671e-01   2.55203893e-02\n",
      "   -4.21923419e-02  -5.41049513e-01  -1.42326476e-01  -9.16439030e-03]]\n"
     ]
    }
   ],
   "source": [
    "print eigenVectors"
   ]
  },
  {
   "cell_type": "code",
   "execution_count": 58,
   "metadata": {
    "collapsed": false
   },
   "outputs": [
    {
     "name": "stdout",
     "output_type": "stream",
     "text": [
      "6.33418430902\n",
      "2.84905506167\n",
      "1.02245447095\n",
      "0.729566698523\n",
      "0.589513464948\n",
      "0.268223057092\n",
      "0.190464291634\n",
      "0.0932026384994\n",
      "0.0570822316029\n",
      "0.0221931880278\n",
      "0.00837377081056\n",
      "7.03788666644e-05\n"
     ]
    }
   ],
   "source": [
    "eigenPairs = [(np.abs(eigenValues[i]), eigenVectors[:,i]) for i in range(len(eigenValues))]\n",
    "eigenPairs.sort()\n",
    "eigenPairs.reverse()\n",
    "for i in eigenPairs:\n",
    "    print(i[0])"
   ]
  },
  {
   "cell_type": "code",
   "execution_count": 59,
   "metadata": {
    "collapsed": false
   },
   "outputs": [
    {
     "data": {
      "text/plain": [
       "array([[ 1.01369863,  0.00402772,  0.02891221,  0.10603825,  0.10004734,\n",
       "         0.05990512, -0.0139879 , -0.010056  ,  0.00408059, -0.13956998,\n",
       "        -0.10373906, -0.19151543],\n",
       "       [ 0.00402772,  1.01369863,  0.45534922,  0.44818682,  0.43096026,\n",
       "         0.12065728,  0.91998831,  0.66800297,  1.01360955, -0.44451988,\n",
       "         0.1350912 , -0.07168771],\n",
       "       [ 0.02891221,  0.45534922,  1.01369863,  0.69347155,  0.54667305,\n",
       "         0.46598473,  0.45064156,  0.71885594,  0.45651581, -0.68677167,\n",
       "        -0.27583207, -0.33609067],\n",
       "       [ 0.10603825,  0.44818682,  0.69347155,  1.01369863,  0.63855082,\n",
       "         0.84551553,  0.55131554,  0.74683455,  0.44973445, -0.97001054,\n",
       "        -0.69589298, -0.74770381],\n",
       "       [ 0.10004734,  0.43096026,  0.54667305,  0.63855082,  1.01369863,\n",
       "         0.65409438,  0.51426137,  0.68605975,  0.43448747, -0.58427519,\n",
       "        -0.47007622, -0.34711555],\n",
       "       [ 0.05990512,  0.12065728,  0.46598473,  0.84551553,  0.65409438,\n",
       "         1.01369863,  0.25667003,  0.48688156,  0.12216482, -0.75559681,\n",
       "        -0.92566233, -0.70228927],\n",
       "       [-0.0139879 ,  0.91998831,  0.45064156,  0.55131554,  0.51426137,\n",
       "         0.25667003,  1.01369863,  0.73712525,  0.92091281, -0.52979733,\n",
       "        -0.00995463, -0.15247588],\n",
       "       [-0.010056  ,  0.66800297,  0.71885594,  0.74683455,  0.68605975,\n",
       "         0.48688156,  0.73712525,  1.01369863,  0.67009674, -0.6995143 ,\n",
       "        -0.22791368, -0.18656413],\n",
       "       [ 0.00408059,  1.01360955,  0.45651581,  0.44973445,  0.43448747,\n",
       "         0.12216482,  0.92091281,  0.67009674,  1.01369863, -0.4454431 ,\n",
       "         0.13469519, -0.07240642],\n",
       "       [-0.13956998, -0.44451988, -0.68677167, -0.97001054, -0.58427519,\n",
       "        -0.75559681, -0.52979733, -0.6995143 , -0.4454431 ,  1.01369863,\n",
       "         0.67627605,  0.81452784],\n",
       "       [-0.10373906,  0.1350912 , -0.27583207, -0.69589298, -0.47007622,\n",
       "        -0.92566233, -0.00995463, -0.22791368,  0.13469519,  0.67627605,\n",
       "         1.01369863,  0.80076212],\n",
       "       [-0.19151543, -0.07168771, -0.33609067, -0.74770381, -0.34711555,\n",
       "        -0.70228927, -0.15247588, -0.18656413, -0.07240642,  0.81452784,\n",
       "         0.80076212,  1.01369863]])"
      ]
     },
     "execution_count": 59,
     "metadata": {},
     "output_type": "execute_result"
    }
   ],
   "source": [
    "cov_mat"
   ]
  },
  {
   "cell_type": "code",
   "execution_count": 60,
   "metadata": {
    "collapsed": false
   },
   "outputs": [],
   "source": [
    "pca = PCA(n_components=2)\n",
    "X_pca = pca.fit_transform(X)"
   ]
  },
  {
   "cell_type": "code",
   "execution_count": 61,
   "metadata": {
    "collapsed": false
   },
   "outputs": [
    {
     "data": {
      "text/plain": [
       "(74, 2)"
      ]
     },
     "execution_count": 61,
     "metadata": {},
     "output_type": "execute_result"
    }
   ],
   "source": [
    "X_pca.shape"
   ]
  },
  {
   "cell_type": "code",
   "execution_count": 62,
   "metadata": {
    "collapsed": false
   },
   "outputs": [
    {
     "data": {
      "text/plain": [
       "array([[ 0.04060551,  0.25811286,  0.29682621,  0.37794535,  0.30453778,\n",
       "         0.30617221,  0.28829982,  0.33260351,  0.25875158, -0.3689787 ,\n",
       "        -0.23229582, -0.2519819 ],\n",
       "       [ 0.09249905, -0.42376187, -0.05180452,  0.13343694,  0.00707484,\n",
       "         0.31882408, -0.35530802, -0.18654024, -0.4235872 , -0.13665767,\n",
       "        -0.45277299, -0.35431056]])"
      ]
     },
     "execution_count": 62,
     "metadata": {},
     "output_type": "execute_result"
    }
   ],
   "source": [
    "pca.components_"
   ]
  },
  {
   "cell_type": "code",
   "execution_count": 63,
   "metadata": {
    "collapsed": false
   },
   "outputs": [
    {
     "data": {
      "text/plain": [
       "array([ 0.5207156 ,  0.23421286])"
      ]
     },
     "execution_count": 63,
     "metadata": {},
     "output_type": "execute_result"
    }
   ],
   "source": [
    "pca.explained_variance_ratio_"
   ]
  },
  {
   "cell_type": "code",
   "execution_count": 64,
   "metadata": {
    "collapsed": false,
    "focus": false,
    "id": "a8e7ac46-ba4f-47a8-99f8-b67a7f7e108e"
   },
   "outputs": [],
   "source": [
    "df_plot = pd.DataFrame(X_pca, index=airport_grouped.index, columns=['PC1','PC2'])"
   ]
  },
  {
   "cell_type": "code",
   "execution_count": 65,
   "metadata": {
    "collapsed": false
   },
   "outputs": [
    {
     "data": {
      "text/html": [
       "<div>\n",
       "<table border=\"1\" class=\"dataframe\">\n",
       "  <thead>\n",
       "    <tr style=\"text-align: right;\">\n",
       "      <th></th>\n",
       "      <th>PC1</th>\n",
       "      <th>PC2</th>\n",
       "    </tr>\n",
       "    <tr>\n",
       "      <th>Airport</th>\n",
       "      <th></th>\n",
       "      <th></th>\n",
       "    </tr>\n",
       "  </thead>\n",
       "  <tbody>\n",
       "    <tr>\n",
       "      <th>ABQ</th>\n",
       "      <td>-2.554774</td>\n",
       "      <td>0.177234</td>\n",
       "    </tr>\n",
       "    <tr>\n",
       "      <th>ANC</th>\n",
       "      <td>0.188585</td>\n",
       "      <td>0.727654</td>\n",
       "    </tr>\n",
       "    <tr>\n",
       "      <th>ATL</th>\n",
       "      <td>4.836584</td>\n",
       "      <td>-3.954600</td>\n",
       "    </tr>\n",
       "    <tr>\n",
       "      <th>AUS</th>\n",
       "      <td>-1.389544</td>\n",
       "      <td>0.768414</td>\n",
       "    </tr>\n",
       "    <tr>\n",
       "      <th>BDL</th>\n",
       "      <td>-1.093331</td>\n",
       "      <td>0.556845</td>\n",
       "    </tr>\n",
       "    <tr>\n",
       "      <th>BHM</th>\n",
       "      <td>-1.042222</td>\n",
       "      <td>1.732180</td>\n",
       "    </tr>\n",
       "    <tr>\n",
       "      <th>BNA</th>\n",
       "      <td>-1.023905</td>\n",
       "      <td>0.581833</td>\n",
       "    </tr>\n",
       "    <tr>\n",
       "      <th>BOS</th>\n",
       "      <td>2.121247</td>\n",
       "      <td>-0.662258</td>\n",
       "    </tr>\n",
       "    <tr>\n",
       "      <th>BUF</th>\n",
       "      <td>-0.160833</td>\n",
       "      <td>1.690837</td>\n",
       "    </tr>\n",
       "    <tr>\n",
       "      <th>BUR</th>\n",
       "      <td>-2.740822</td>\n",
       "      <td>0.257544</td>\n",
       "    </tr>\n",
       "    <tr>\n",
       "      <th>BWI</th>\n",
       "      <td>-0.004531</td>\n",
       "      <td>-0.207080</td>\n",
       "    </tr>\n",
       "    <tr>\n",
       "      <th>CLE</th>\n",
       "      <td>-0.641188</td>\n",
       "      <td>-0.591714</td>\n",
       "    </tr>\n",
       "    <tr>\n",
       "      <th>CLT</th>\n",
       "      <td>1.578251</td>\n",
       "      <td>-2.448408</td>\n",
       "    </tr>\n",
       "    <tr>\n",
       "      <th>CVG</th>\n",
       "      <td>-0.934767</td>\n",
       "      <td>-1.312954</td>\n",
       "    </tr>\n",
       "    <tr>\n",
       "      <th>DAL</th>\n",
       "      <td>-0.371633</td>\n",
       "      <td>1.610537</td>\n",
       "    </tr>\n",
       "    <tr>\n",
       "      <th>DAY</th>\n",
       "      <td>-1.419843</td>\n",
       "      <td>1.057225</td>\n",
       "    </tr>\n",
       "    <tr>\n",
       "      <th>DCA</th>\n",
       "      <td>-0.180019</td>\n",
       "      <td>-1.312949</td>\n",
       "    </tr>\n",
       "    <tr>\n",
       "      <th>DEN</th>\n",
       "      <td>1.617183</td>\n",
       "      <td>-2.350748</td>\n",
       "    </tr>\n",
       "    <tr>\n",
       "      <th>DFW</th>\n",
       "      <td>2.532369</td>\n",
       "      <td>-3.490411</td>\n",
       "    </tr>\n",
       "    <tr>\n",
       "      <th>DTW</th>\n",
       "      <td>1.414908</td>\n",
       "      <td>-2.300086</td>\n",
       "    </tr>\n",
       "    <tr>\n",
       "      <th>EWR</th>\n",
       "      <td>7.326145</td>\n",
       "      <td>1.272416</td>\n",
       "    </tr>\n",
       "    <tr>\n",
       "      <th>FLL</th>\n",
       "      <td>1.043217</td>\n",
       "      <td>0.732258</td>\n",
       "    </tr>\n",
       "    <tr>\n",
       "      <th>HNL</th>\n",
       "      <td>-3.186924</td>\n",
       "      <td>-2.318644</td>\n",
       "    </tr>\n",
       "    <tr>\n",
       "      <th>HOU</th>\n",
       "      <td>-0.092121</td>\n",
       "      <td>1.382913</td>\n",
       "    </tr>\n",
       "    <tr>\n",
       "      <th>HPN</th>\n",
       "      <td>5.547505</td>\n",
       "      <td>5.947163</td>\n",
       "    </tr>\n",
       "    <tr>\n",
       "      <th>IAD</th>\n",
       "      <td>2.191618</td>\n",
       "      <td>0.281486</td>\n",
       "    </tr>\n",
       "    <tr>\n",
       "      <th>IAH</th>\n",
       "      <td>1.906751</td>\n",
       "      <td>-2.548212</td>\n",
       "    </tr>\n",
       "    <tr>\n",
       "      <th>IND</th>\n",
       "      <td>-0.365735</td>\n",
       "      <td>0.378976</td>\n",
       "    </tr>\n",
       "    <tr>\n",
       "      <th>ISP</th>\n",
       "      <td>-2.335323</td>\n",
       "      <td>1.345642</td>\n",
       "    </tr>\n",
       "    <tr>\n",
       "      <th>JAX</th>\n",
       "      <td>-1.750457</td>\n",
       "      <td>0.795292</td>\n",
       "    </tr>\n",
       "    <tr>\n",
       "      <th>...</th>\n",
       "      <td>...</td>\n",
       "      <td>...</td>\n",
       "    </tr>\n",
       "    <tr>\n",
       "      <th>OAK</th>\n",
       "      <td>-1.901413</td>\n",
       "      <td>0.081763</td>\n",
       "    </tr>\n",
       "    <tr>\n",
       "      <th>OGG</th>\n",
       "      <td>-4.635172</td>\n",
       "      <td>-1.810250</td>\n",
       "    </tr>\n",
       "    <tr>\n",
       "      <th>OMA</th>\n",
       "      <td>-0.914150</td>\n",
       "      <td>1.503919</td>\n",
       "    </tr>\n",
       "    <tr>\n",
       "      <th>ONT</th>\n",
       "      <td>-2.100138</td>\n",
       "      <td>0.899710</td>\n",
       "    </tr>\n",
       "    <tr>\n",
       "      <th>ORD</th>\n",
       "      <td>5.539137</td>\n",
       "      <td>-2.578978</td>\n",
       "    </tr>\n",
       "    <tr>\n",
       "      <th>OXR</th>\n",
       "      <td>-4.751256</td>\n",
       "      <td>-0.893713</td>\n",
       "    </tr>\n",
       "    <tr>\n",
       "      <th>PBI</th>\n",
       "      <td>1.455070</td>\n",
       "      <td>3.255340</td>\n",
       "    </tr>\n",
       "    <tr>\n",
       "      <th>PDX</th>\n",
       "      <td>-2.781061</td>\n",
       "      <td>-1.094026</td>\n",
       "    </tr>\n",
       "    <tr>\n",
       "      <th>PHL</th>\n",
       "      <td>5.057623</td>\n",
       "      <td>-0.173409</td>\n",
       "    </tr>\n",
       "    <tr>\n",
       "      <th>PHX</th>\n",
       "      <td>0.025703</td>\n",
       "      <td>-2.444503</td>\n",
       "    </tr>\n",
       "    <tr>\n",
       "      <th>PIT</th>\n",
       "      <td>-0.692638</td>\n",
       "      <td>0.222981</td>\n",
       "    </tr>\n",
       "    <tr>\n",
       "      <th>PSP</th>\n",
       "      <td>-0.910745</td>\n",
       "      <td>1.283687</td>\n",
       "    </tr>\n",
       "    <tr>\n",
       "      <th>PVD</th>\n",
       "      <td>-0.991210</td>\n",
       "      <td>1.150338</td>\n",
       "    </tr>\n",
       "    <tr>\n",
       "      <th>RDU</th>\n",
       "      <td>-0.314462</td>\n",
       "      <td>0.699242</td>\n",
       "    </tr>\n",
       "    <tr>\n",
       "      <th>RFD</th>\n",
       "      <td>-1.664533</td>\n",
       "      <td>2.269002</td>\n",
       "    </tr>\n",
       "    <tr>\n",
       "      <th>RSW</th>\n",
       "      <td>-1.324432</td>\n",
       "      <td>0.458354</td>\n",
       "    </tr>\n",
       "    <tr>\n",
       "      <th>SAN</th>\n",
       "      <td>-1.728215</td>\n",
       "      <td>-0.506984</td>\n",
       "    </tr>\n",
       "    <tr>\n",
       "      <th>SAT</th>\n",
       "      <td>-1.521884</td>\n",
       "      <td>0.738923</td>\n",
       "    </tr>\n",
       "    <tr>\n",
       "      <th>SDF</th>\n",
       "      <td>1.290101</td>\n",
       "      <td>2.033471</td>\n",
       "    </tr>\n",
       "    <tr>\n",
       "      <th>SEA</th>\n",
       "      <td>-1.088947</td>\n",
       "      <td>-2.062517</td>\n",
       "    </tr>\n",
       "    <tr>\n",
       "      <th>SFO</th>\n",
       "      <td>2.488982</td>\n",
       "      <td>0.335930</td>\n",
       "    </tr>\n",
       "    <tr>\n",
       "      <th>SJC</th>\n",
       "      <td>-2.574703</td>\n",
       "      <td>-0.011800</td>\n",
       "    </tr>\n",
       "    <tr>\n",
       "      <th>SJU</th>\n",
       "      <td>-1.434227</td>\n",
       "      <td>0.146988</td>\n",
       "    </tr>\n",
       "    <tr>\n",
       "      <th>SLC</th>\n",
       "      <td>-0.838893</td>\n",
       "      <td>-2.375422</td>\n",
       "    </tr>\n",
       "    <tr>\n",
       "      <th>SMF</th>\n",
       "      <td>-3.022588</td>\n",
       "      <td>-0.178792</td>\n",
       "    </tr>\n",
       "    <tr>\n",
       "      <th>SNA</th>\n",
       "      <td>-1.668419</td>\n",
       "      <td>-0.237642</td>\n",
       "    </tr>\n",
       "    <tr>\n",
       "      <th>STL</th>\n",
       "      <td>-1.479381</td>\n",
       "      <td>-0.339757</td>\n",
       "    </tr>\n",
       "    <tr>\n",
       "      <th>SWF</th>\n",
       "      <td>1.789889</td>\n",
       "      <td>3.796186</td>\n",
       "    </tr>\n",
       "    <tr>\n",
       "      <th>TPA</th>\n",
       "      <td>-1.694244</td>\n",
       "      <td>-0.130597</td>\n",
       "    </tr>\n",
       "    <tr>\n",
       "      <th>TUS</th>\n",
       "      <td>-2.479667</td>\n",
       "      <td>0.566377</td>\n",
       "    </tr>\n",
       "  </tbody>\n",
       "</table>\n",
       "<p>74 rows × 2 columns</p>\n",
       "</div>"
      ],
      "text/plain": [
       "              PC1       PC2\n",
       "Airport                    \n",
       "ABQ     -2.554774  0.177234\n",
       "ANC      0.188585  0.727654\n",
       "ATL      4.836584 -3.954600\n",
       "AUS     -1.389544  0.768414\n",
       "BDL     -1.093331  0.556845\n",
       "BHM     -1.042222  1.732180\n",
       "BNA     -1.023905  0.581833\n",
       "BOS      2.121247 -0.662258\n",
       "BUF     -0.160833  1.690837\n",
       "BUR     -2.740822  0.257544\n",
       "BWI     -0.004531 -0.207080\n",
       "CLE     -0.641188 -0.591714\n",
       "CLT      1.578251 -2.448408\n",
       "CVG     -0.934767 -1.312954\n",
       "DAL     -0.371633  1.610537\n",
       "DAY     -1.419843  1.057225\n",
       "DCA     -0.180019 -1.312949\n",
       "DEN      1.617183 -2.350748\n",
       "DFW      2.532369 -3.490411\n",
       "DTW      1.414908 -2.300086\n",
       "EWR      7.326145  1.272416\n",
       "FLL      1.043217  0.732258\n",
       "HNL     -3.186924 -2.318644\n",
       "HOU     -0.092121  1.382913\n",
       "HPN      5.547505  5.947163\n",
       "IAD      2.191618  0.281486\n",
       "IAH      1.906751 -2.548212\n",
       "IND     -0.365735  0.378976\n",
       "ISP     -2.335323  1.345642\n",
       "JAX     -1.750457  0.795292\n",
       "...           ...       ...\n",
       "OAK     -1.901413  0.081763\n",
       "OGG     -4.635172 -1.810250\n",
       "OMA     -0.914150  1.503919\n",
       "ONT     -2.100138  0.899710\n",
       "ORD      5.539137 -2.578978\n",
       "OXR     -4.751256 -0.893713\n",
       "PBI      1.455070  3.255340\n",
       "PDX     -2.781061 -1.094026\n",
       "PHL      5.057623 -0.173409\n",
       "PHX      0.025703 -2.444503\n",
       "PIT     -0.692638  0.222981\n",
       "PSP     -0.910745  1.283687\n",
       "PVD     -0.991210  1.150338\n",
       "RDU     -0.314462  0.699242\n",
       "RFD     -1.664533  2.269002\n",
       "RSW     -1.324432  0.458354\n",
       "SAN     -1.728215 -0.506984\n",
       "SAT     -1.521884  0.738923\n",
       "SDF      1.290101  2.033471\n",
       "SEA     -1.088947 -2.062517\n",
       "SFO      2.488982  0.335930\n",
       "SJC     -2.574703 -0.011800\n",
       "SJU     -1.434227  0.146988\n",
       "SLC     -0.838893 -2.375422\n",
       "SMF     -3.022588 -0.178792\n",
       "SNA     -1.668419 -0.237642\n",
       "STL     -1.479381 -0.339757\n",
       "SWF      1.789889  3.796186\n",
       "TPA     -1.694244 -0.130597\n",
       "TUS     -2.479667  0.566377\n",
       "\n",
       "[74 rows x 2 columns]"
      ]
     },
     "execution_count": 65,
     "metadata": {},
     "output_type": "execute_result"
    }
   ],
   "source": [
    "df_plot"
   ]
  },
  {
   "cell_type": "code",
   "execution_count": 66,
   "metadata": {
    "collapsed": false
   },
   "outputs": [],
   "source": [
    "components = pca.components_"
   ]
  },
  {
   "cell_type": "code",
   "execution_count": 67,
   "metadata": {
    "collapsed": false
   },
   "outputs": [
    {
     "name": "stdout",
     "output_type": "stream",
     "text": [
      "Index([u'Year', u'arrivals for metric computation', u'average airborne delay',\n",
      "       u'average airport departure delay', u'average block delay',\n",
      "       u'average gate arrival delay', u'average taxi in delay',\n",
      "       u'average_taxi_out_time', u'departures for metric computation',\n",
      "       u'percent on-time airport departures', u'percent on-time gate arrivals',\n",
      "       u'percent on-time gate departures'],\n",
      "      dtype='object') \n",
      "\n",
      "PC1 weighting vector: [ 0.04060551  0.25811286  0.29682621  0.37794535  0.30453778  0.30617221\n",
      "  0.28829982  0.33260351  0.25875158 -0.3689787  -0.23229582 -0.2519819 ]\n",
      "-------------------------------------\n",
      "\n",
      "PC2 weighting vector: [ 0.09249905 -0.42376187 -0.05180452  0.13343694  0.00707484  0.31882408\n",
      " -0.35530802 -0.18654024 -0.4235872  -0.13665767 -0.45277299 -0.35431056]\n",
      "-------------------------------------\n",
      "\n"
     ]
    }
   ],
   "source": [
    "print airport_grouped.columns, '\\n'\n",
    "\n",
    "for i, pc in enumerate(['PC1','PC2']):\n",
    "    print pc, 'weighting vector:', components[i]\n",
    "    print '-------------------------------------\\n'\n"
   ]
  },
  {
   "cell_type": "code",
   "execution_count": 68,
   "metadata": {
    "collapsed": false
   },
   "outputs": [
    {
     "data": {
      "text/html": [
       "<div>\n",
       "<table border=\"1\" class=\"dataframe\">\n",
       "  <thead>\n",
       "    <tr style=\"text-align: right;\">\n",
       "      <th></th>\n",
       "      <th>V1</th>\n",
       "      <th>V2</th>\n",
       "    </tr>\n",
       "  </thead>\n",
       "  <tbody>\n",
       "    <tr>\n",
       "      <th>Year</th>\n",
       "      <td>0.040606</td>\n",
       "      <td>0.092499</td>\n",
       "    </tr>\n",
       "    <tr>\n",
       "      <th>arrivals for metric computation</th>\n",
       "      <td>0.258113</td>\n",
       "      <td>-0.423762</td>\n",
       "    </tr>\n",
       "    <tr>\n",
       "      <th>average airborne delay</th>\n",
       "      <td>0.296826</td>\n",
       "      <td>-0.051805</td>\n",
       "    </tr>\n",
       "    <tr>\n",
       "      <th>average airport departure delay</th>\n",
       "      <td>0.377945</td>\n",
       "      <td>0.133437</td>\n",
       "    </tr>\n",
       "    <tr>\n",
       "      <th>average block delay</th>\n",
       "      <td>0.304538</td>\n",
       "      <td>0.007075</td>\n",
       "    </tr>\n",
       "    <tr>\n",
       "      <th>average gate arrival delay</th>\n",
       "      <td>0.306172</td>\n",
       "      <td>0.318824</td>\n",
       "    </tr>\n",
       "    <tr>\n",
       "      <th>average taxi in delay</th>\n",
       "      <td>0.288300</td>\n",
       "      <td>-0.355308</td>\n",
       "    </tr>\n",
       "    <tr>\n",
       "      <th>average_taxi_out_time</th>\n",
       "      <td>0.332604</td>\n",
       "      <td>-0.186540</td>\n",
       "    </tr>\n",
       "    <tr>\n",
       "      <th>departures for metric computation</th>\n",
       "      <td>0.258752</td>\n",
       "      <td>-0.423587</td>\n",
       "    </tr>\n",
       "    <tr>\n",
       "      <th>percent on-time airport departures</th>\n",
       "      <td>-0.368979</td>\n",
       "      <td>-0.136658</td>\n",
       "    </tr>\n",
       "    <tr>\n",
       "      <th>percent on-time gate arrivals</th>\n",
       "      <td>-0.232296</td>\n",
       "      <td>-0.452773</td>\n",
       "    </tr>\n",
       "    <tr>\n",
       "      <th>percent on-time gate departures</th>\n",
       "      <td>-0.251982</td>\n",
       "      <td>-0.354311</td>\n",
       "    </tr>\n",
       "  </tbody>\n",
       "</table>\n",
       "</div>"
      ],
      "text/plain": [
       "                                          V1        V2\n",
       "Year                                0.040606  0.092499\n",
       "arrivals for metric computation     0.258113 -0.423762\n",
       "average airborne delay              0.296826 -0.051805\n",
       "average airport departure delay     0.377945  0.133437\n",
       "average block delay                 0.304538  0.007075\n",
       "average gate arrival delay          0.306172  0.318824\n",
       "average taxi in delay               0.288300 -0.355308\n",
       "average_taxi_out_time               0.332604 -0.186540\n",
       "departures for metric computation   0.258752 -0.423587\n",
       "percent on-time airport departures -0.368979 -0.136658\n",
       "percent on-time gate arrivals      -0.232296 -0.452773\n",
       "percent on-time gate departures    -0.251982 -0.354311"
      ]
     },
     "execution_count": 68,
     "metadata": {},
     "output_type": "execute_result"
    }
   ],
   "source": [
    "pca_loadings = pd.DataFrame(components.T, index=airport_grouped.columns, \n",
    "                            columns=['V1','V2'])\n",
    "pca_loadings"
   ]
  },
  {
   "cell_type": "code",
   "execution_count": 69,
   "metadata": {
    "collapsed": false
   },
   "outputs": [],
   "source": [
    "#plt.scatter(X_pca[:,0], X_pca[:,1], c=pca.components_)"
   ]
  },
  {
   "cell_type": "code",
   "execution_count": 70,
   "metadata": {
    "collapsed": false
   },
   "outputs": [
    {
     "data": {
      "text/plain": [
       "<matplotlib.patches.FancyArrow at 0x11fb58d10>"
      ]
     },
     "execution_count": 70,
     "metadata": {},
     "output_type": "execute_result"
    },
    {
     "data": {
      "image/png": "[encoded data removed]",
      "text/plain": [
       "<matplotlib.figure.Figure at 0x11f8e3090>"
      ]
     },
     "metadata": {},
     "output_type": "display_data"
    }
   ],
   "source": [
    "fig , ax1 = plt.subplots(figsize=(12,12))\n",
    "\n",
    "ax1.set_xlim(-3.5,3.5)\n",
    "ax1.set_ylim(-3.5,3.5)\n",
    "\n",
    "# Plot Principal Components 1 and 2\n",
    "for i in df_plot.index:\n",
    "    ax1.annotate(i, (-df_plot.PC1.loc[i], -df_plot.PC2.loc[i]), ha='center')\n",
    "\n",
    "# Plot reference lines\n",
    "ax1.hlines(0,-3.5,3.5, linestyles='dotted', colors='grey')\n",
    "ax1.vlines(0,-3.5,3.5, linestyles='dotted', colors='grey')\n",
    "\n",
    "ax1.set_xlabel('First Principal Component')\n",
    "ax1.set_ylabel('Second Principal Component')\n",
    "    \n",
    "# Plot Principal Component loading vectors, using a second y-axis.\n",
    "ax2 = ax1.twinx().twiny() \n",
    "\n",
    "ax2.set_ylim(-1,1)\n",
    "ax2.set_xlim(-1,1)\n",
    "ax2.tick_params(axis='y', colors='red')\n",
    "ax2.set_xlabel('Principal Component loading vectors', color='black')\n",
    "\n",
    "# Plot labels for vectors. Variable 'a' is a small offset parameter to separate arrow tip and text.\n",
    "a = 1.07  \n",
    "for i in pca_loadings[['V1', 'V2']].index:\n",
    "    ax2.annotate(i, (-pca_loadings.V1.loc[i]*a, -pca_loadings.V2.loc[i]*a), color='red')\n",
    "\n",
    "# Plot vectors\n",
    "ax2.arrow(0,0,-pca_loadings.V1[0], -pca_loadings.V2[0])\n",
    "ax2.arrow(0,0,-pca_loadings.V1[1], -pca_loadings.V2[1])\n",
    "ax2.arrow(0,0,-pca_loadings.V1[2], -pca_loadings.V2[2])\n",
    "ax2.arrow(0,0,-pca_loadings.V1[3], -pca_loadings.V2[3])\n",
    "ax2.arrow(0,0,-pca_loadings.V1[4], -pca_loadings.V2[4])\n",
    "ax2.arrow(0,0,-pca_loadings.V1[5], -pca_loadings.V2[5])\n",
    "ax2.arrow(0,0,-pca_loadings.V1[6], -pca_loadings.V2[6])\n",
    "ax2.arrow(0,0,-pca_loadings.V1[7], -pca_loadings.V2[7])\n",
    "ax2.arrow(0,0,-pca_loadings.V1[8], -pca_loadings.V2[8])\n",
    "ax2.arrow(0,0,-pca_loadings.V1[9], -pca_loadings.V2[9])\n",
    "ax2.arrow(0,0,-pca_loadings.V1[10], -pca_loadings.V2[10])\n",
    "ax2.arrow(0,0,-pca_loadings.V1[11], -pca_loadings.V2[11])"
   ]
  },
  {
   "cell_type": "code",
   "execution_count": 71,
   "metadata": {
    "collapsed": false
   },
   "outputs": [
    {
     "data": {
      "image/png": "[encoded data removed]",
      "text/plain": [
       "<matplotlib.figure.Figure at 0x11f8de850>"
      ]
     },
     "metadata": {},
     "output_type": "display_data"
    }
   ],
   "source": [
    "#SCREE PLOT LOOK AT LATER \n",
    "\n",
    "plt.figure(figsize=(7,5))\n",
    "\n",
    "plt.plot([1,2], pca.explained_variance_ratio_, '-o', label='Individual component')\n",
    "plt.plot([1,2], np.cumsum(pca.explained_variance_ratio_), '-s', label='Cumulative')\n",
    "\n",
    "plt.ylabel('Proportion of Variance Explained')\n",
    "plt.xlabel('Principal Component')\n",
    "plt.xlim(0.75,4.25)\n",
    "plt.ylim(0,1.05)\n",
    "plt.xticks([1,2,3,4])\n",
    "plt.legend(loc=2);"
   ]
  },
  {
   "cell_type": "code",
   "execution_count": 72,
   "metadata": {
    "collapsed": false
   },
   "outputs": [
    {
     "name": "stdout",
     "output_type": "stream",
     "text": [
      "[[ 0.04060551  0.25811286  0.29682621  0.37794535  0.30453778  0.30617221\n",
      "   0.28829982  0.33260351  0.25875158 -0.3689787  -0.23229582 -0.2519819 ]\n",
      " [ 0.09249905 -0.42376187 -0.05180452  0.13343694  0.00707484  0.31882408\n",
      "  -0.35530802 -0.18654024 -0.4235872  -0.13665767 -0.45277299 -0.35431056]]\n"
     ]
    }
   ],
   "source": [
    "print components"
   ]
  },
  {
   "cell_type": "code",
   "execution_count": 73,
   "metadata": {
    "collapsed": false
   },
   "outputs": [],
   "source": [
    "pca_component_df = pd.DataFrame(components,columns=airport_grouped.columns)"
   ]
  },
  {
   "cell_type": "code",
   "execution_count": 74,
   "metadata": {
    "collapsed": false
   },
   "outputs": [
    {
     "data": {
      "text/plain": [
       "<matplotlib.axes._subplots.AxesSubplot at 0x11efd5a90>"
      ]
     },
     "execution_count": 74,
     "metadata": {},
     "output_type": "execute_result"
    },
    {
     "data": {
      "image/png": "[encoded data removed]",
      "text/plain": [
       "<matplotlib.figure.Figure at 0x120058b90>"
      ]
     },
     "metadata": {},
     "output_type": "display_data"
    }
   ],
   "source": [
    "plt.figure(figsize=(12,6))\n",
    "sns.heatmap(pca_component_df)"
   ]
  },
  {
   "cell_type": "code",
   "execution_count": 75,
   "metadata": {
    "collapsed": false
   },
   "outputs": [
    {
     "name": "stdout",
     "output_type": "stream",
     "text": [
      "k: 2 silhouette_score 0.493945490287\n",
      "k: 3 silhouette_score 0.394698974102\n",
      "k: 4 silhouette_score 0.367608775278\n",
      "k: 5 silhouette_score 0.346957897724\n",
      "k: 6 silhouette_score 0.35758053739\n",
      "k: 7 silhouette_score 0.334451386659\n",
      "k: 8 silhouette_score 0.397586277501\n",
      "k: 9 silhouette_score 0.407665174432\n",
      "k: 10 silhouette_score 0.418259894059\n",
      "k: 11 silhouette_score 0.415815971534\n",
      "k: 12 silhouette_score 0.411388229356\n",
      "k: 13 silhouette_score 0.393696403941\n",
      "k: 14 silhouette_score 0.394806172609\n",
      "k: 15 silhouette_score 0.372378994891\n",
      "k: 16 silhouette_score 0.382216797701\n",
      "k: 17 silhouette_score 0.393012123014\n",
      "k: 18 silhouette_score 0.367599126931\n",
      "k: 19 silhouette_score 0.404933727134\n"
     ]
    }
   ],
   "source": [
    "from sklearn.cluster import KMeans\n",
    "from sklearn.metrics import silhouette_score\n",
    "\n",
    "for kval in range(2,20,1):\n",
    "    kmeans = KMeans(n_clusters=kval)\n",
    "    kmeans.fit(X_pca)\n",
    "    scl_score = silhouette_score(X_pca, kmeans.labels_)\n",
    "    print 'k:' , kval, 'silhouette_score', scl_score"
   ]
  },
  {
   "cell_type": "code",
   "execution_count": 76,
   "metadata": {
    "collapsed": false
   },
   "outputs": [
    {
     "name": "stdout",
     "output_type": "stream",
     "text": [
      "---------K: 2\n",
      "0    56\n",
      "1    18\n",
      "Name: clst, dtype: int64\n",
      "----------\n",
      "---------K: 3\n",
      "1    50\n",
      "2    18\n",
      "0     6\n",
      "Name: clst, dtype: int64\n",
      "----------\n",
      "---------K: 4\n",
      "2    34\n",
      "0    24\n",
      "3    11\n",
      "1     5\n",
      "Name: clst, dtype: int64\n",
      "----------\n",
      "---------K: 5\n",
      "3    24\n",
      "0    24\n",
      "2    17\n",
      "1     6\n",
      "4     3\n",
      "Name: clst, dtype: int64\n",
      "----------\n",
      "---------K: 6\n",
      "0    27\n",
      "3    17\n",
      "1    11\n",
      "4    10\n",
      "2     6\n",
      "5     3\n",
      "Name: clst, dtype: int64\n",
      "----------\n",
      "---------K: 7\n",
      "2    26\n",
      "3    15\n",
      "0     9\n",
      "6     8\n",
      "4     7\n",
      "1     6\n",
      "5     3\n",
      "Name: clst, dtype: int64\n",
      "----------\n",
      "---------K: 8\n",
      "2    25\n",
      "0    15\n",
      "6     9\n",
      "1     8\n",
      "4     7\n",
      "3     5\n",
      "5     4\n",
      "7     1\n",
      "Name: clst, dtype: int64\n",
      "----------\n",
      "---------K: 9\n",
      "0    20\n",
      "5    17\n",
      "6     9\n",
      "1     8\n",
      "8     7\n",
      "7     4\n",
      "3     4\n",
      "4     3\n",
      "2     2\n",
      "Name: clst, dtype: int64\n",
      "----------\n",
      "---------K: 10\n",
      "0    20\n",
      "3    17\n",
      "9     9\n",
      "7     7\n",
      "2     7\n",
      "5     4\n",
      "1     4\n",
      "6     3\n",
      "8     2\n",
      "4     1\n",
      "Name: clst, dtype: int64\n",
      "----------\n",
      "---------K: 11\n",
      "7     18\n",
      "0     12\n",
      "1      9\n",
      "6      7\n",
      "4      7\n",
      "3      7\n",
      "9      4\n",
      "2      4\n",
      "10     3\n",
      "8      2\n",
      "5      1\n",
      "Name: clst, dtype: int64\n",
      "----------\n",
      "---------K: 12\n",
      "1     16\n",
      "4     13\n",
      "6      9\n",
      "9      7\n",
      "11     6\n",
      "3      5\n",
      "0      5\n",
      "2      4\n",
      "10     3\n",
      "8      3\n",
      "5      2\n",
      "7      1\n",
      "Name: clst, dtype: int64\n",
      "----------\n",
      "---------K: 13\n",
      "9     17\n",
      "2      9\n",
      "4      7\n",
      "3      7\n",
      "0      7\n",
      "12     6\n",
      "8      4\n",
      "6      4\n",
      "1      4\n",
      "11     3\n",
      "10     3\n",
      "7      2\n",
      "5      1\n",
      "Name: clst, dtype: int64\n",
      "----------\n",
      "---------K: 14\n",
      "5     11\n",
      "1      9\n",
      "12     8\n",
      "11     7\n",
      "4      7\n",
      "2      7\n",
      "6      6\n",
      "3      4\n",
      "0      4\n",
      "10     3\n",
      "8      3\n",
      "13     2\n",
      "9      2\n",
      "7      1\n",
      "Name: clst, dtype: int64\n",
      "----------\n",
      "---------K: 15\n",
      "14    9\n",
      "10    8\n",
      "9     7\n",
      "2     7\n",
      "1     7\n",
      "0     7\n",
      "13    6\n",
      "12    4\n",
      "4     4\n",
      "3     4\n",
      "11    3\n",
      "6     3\n",
      "8     2\n",
      "7     2\n",
      "5     1\n",
      "Name: clst, dtype: int64\n",
      "----------\n",
      "---------K: 16\n",
      "8     12\n",
      "7     10\n",
      "1      8\n",
      "0      7\n",
      "15     6\n",
      "13     6\n",
      "11     4\n",
      "5      4\n",
      "4      4\n",
      "3      3\n",
      "14     2\n",
      "12     2\n",
      "9      2\n",
      "2      2\n",
      "10     1\n",
      "6      1\n",
      "Name: clst, dtype: int64\n",
      "----------\n",
      "---------K: 17\n",
      "0     10\n",
      "7      7\n",
      "12     7\n",
      "2      7\n",
      "14     5\n",
      "13     5\n",
      "3      5\n",
      "6      4\n",
      "8      4\n",
      "15     4\n",
      "11     4\n",
      "5      3\n",
      "1      3\n",
      "4      2\n",
      "10     2\n",
      "9      1\n",
      "16     1\n",
      "Name: clst, dtype: int64\n",
      "----------\n",
      "---------K: 18\n",
      "13    11\n",
      "0      8\n",
      "2      7\n",
      "10     5\n",
      "9      5\n",
      "5      5\n",
      "3      5\n",
      "15     4\n",
      "14     4\n",
      "4      4\n",
      "12     3\n",
      "16     3\n",
      "6      3\n",
      "11     2\n",
      "7      2\n",
      "1      1\n",
      "17     1\n",
      "8      1\n",
      "Name: clst, dtype: int64\n",
      "----------\n",
      "---------K: 19\n",
      "15    8\n",
      "1     7\n",
      "12    6\n",
      "6     6\n",
      "9     5\n",
      "4     5\n",
      "0     5\n",
      "13    5\n",
      "16    5\n",
      "11    4\n",
      "10    4\n",
      "3     3\n",
      "7     2\n",
      "5     2\n",
      "14    2\n",
      "2     2\n",
      "17    1\n",
      "8     1\n",
      "18    1\n",
      "Name: clst, dtype: int64\n",
      "----------\n"
     ]
    }
   ],
   "source": [
    "for kval in range(2,20,1):\n",
    "    kmeans = KMeans(n_clusters=kval)\n",
    "    kmeans.fit(X_pca)\n",
    "    print '---------K:', kval\n",
    "    print pd.DataFrame(kmeans.labels_, columns=['clst'])['clst'].value_counts()\n",
    "    print '----------'"
   ]
  },
  {
   "cell_type": "code",
   "execution_count": 77,
   "metadata": {
    "collapsed": false
   },
   "outputs": [
    {
     "data": {
      "text/plain": [
       "15    8\n",
       "1     7\n",
       "12    6\n",
       "6     6\n",
       "9     5\n",
       "4     5\n",
       "0     5\n",
       "13    5\n",
       "16    5\n",
       "11    4\n",
       "10    4\n",
       "3     3\n",
       "7     2\n",
       "5     2\n",
       "14    2\n",
       "2     2\n",
       "17    1\n",
       "8     1\n",
       "18    1\n",
       "Name: clst, dtype: int64"
      ]
     },
     "execution_count": 77,
     "metadata": {},
     "output_type": "execute_result"
    }
   ],
   "source": [
    "pd.DataFrame(kmeans.labels_, columns=['clst'])['clst'].value_counts()"
   ]
  },
  {
   "cell_type": "code",
   "execution_count": 78,
   "metadata": {
    "collapsed": false
   },
   "outputs": [],
   "source": [
    "kmeans9 = KMeans(n_clusters=9)"
   ]
  },
  {
   "cell_type": "code",
   "execution_count": 79,
   "metadata": {
    "collapsed": false
   },
   "outputs": [
    {
     "data": {
      "text/plain": [
       "KMeans(algorithm='auto', copy_x=True, init='k-means++', max_iter=300,\n",
       "    n_clusters=9, n_init=10, n_jobs=1, precompute_distances='auto',\n",
       "    random_state=None, tol=0.0001, verbose=0)"
      ]
     },
     "execution_count": 79,
     "metadata": {},
     "output_type": "execute_result"
    }
   ],
   "source": [
    "kmeans9.fit(X_pca)"
   ]
  },
  {
   "cell_type": "code",
   "execution_count": 80,
   "metadata": {
    "collapsed": false
   },
   "outputs": [
    {
     "data": {
      "text/plain": [
       "<matplotlib.collections.PathCollection at 0x120f43110>"
      ]
     },
     "execution_count": 80,
     "metadata": {},
     "output_type": "execute_result"
    },
    {
     "data": {
      "image/png": "[encoded data removed]",
      "text/plain": [
       "<matplotlib.figure.Figure at 0x120aa0c50>"
      ]
     },
     "metadata": {},
     "output_type": "display_data"
    }
   ],
   "source": [
    "fig, (ax1) = plt.subplots(1, figsize=(12,12))\n",
    "\n",
    "ax1.scatter(X_pca[:,0], X_pca[:,1], s=40, c=kmeans9.labels_, cmap=plt.cm.prism) \n",
    "ax1.set_title('K-Means Clustering Results with K=9')\n",
    "ax1.scatter(kmeans9.cluster_centers_[:,0], kmeans9.cluster_centers_[:,1], marker='+', s=100, c='k', linewidth=2)\n"
   ]
  },
  {
   "cell_type": "code",
   "execution_count": 81,
   "metadata": {
    "collapsed": true
   },
   "outputs": [],
   "source": [
    "faa_region = pd.DataFrame(y)"
   ]
  },
  {
   "cell_type": "code",
   "execution_count": 82,
   "metadata": {
    "collapsed": false
   },
   "outputs": [],
   "source": [
    "airport_pca = faa_region.join(df_plot, on=None, how='left')"
   ]
  },
  {
   "cell_type": "code",
   "execution_count": 83,
   "metadata": {
    "collapsed": false
   },
   "outputs": [
    {
     "name": "stderr",
     "output_type": "stream",
     "text": [
      "/anaconda/lib/python2.7/site-packages/ipykernel/__main__.py:1: FutureWarning: sort(columns=....) is deprecated, use sort_values(by=.....)\n",
      "  if __name__ == '__main__':\n"
     ]
    },
    {
     "data": {
      "text/html": [
       "<div>\n",
       "<table border=\"1\" class=\"dataframe\">\n",
       "  <thead>\n",
       "    <tr style=\"text-align: right;\">\n",
       "      <th></th>\n",
       "      <th>FAA REGION</th>\n",
       "      <th>PC1</th>\n",
       "      <th>PC2</th>\n",
       "    </tr>\n",
       "    <tr>\n",
       "      <th>Airport</th>\n",
       "      <th></th>\n",
       "      <th></th>\n",
       "      <th></th>\n",
       "    </tr>\n",
       "  </thead>\n",
       "  <tbody>\n",
       "    <tr>\n",
       "      <th>ANC</th>\n",
       "      <td>0.0</td>\n",
       "      <td>0.188585</td>\n",
       "      <td>0.727654</td>\n",
       "    </tr>\n",
       "    <tr>\n",
       "      <th>MCI</th>\n",
       "      <td>1.0</td>\n",
       "      <td>-1.437936</td>\n",
       "      <td>0.212991</td>\n",
       "    </tr>\n",
       "    <tr>\n",
       "      <th>OMA</th>\n",
       "      <td>1.0</td>\n",
       "      <td>-0.914150</td>\n",
       "      <td>1.503919</td>\n",
       "    </tr>\n",
       "    <tr>\n",
       "      <th>STL</th>\n",
       "      <td>1.0</td>\n",
       "      <td>-1.479381</td>\n",
       "      <td>-0.339757</td>\n",
       "    </tr>\n",
       "    <tr>\n",
       "      <th>LGA</th>\n",
       "      <td>2.0</td>\n",
       "      <td>6.109063</td>\n",
       "      <td>0.216410</td>\n",
       "    </tr>\n",
       "    <tr>\n",
       "      <th>JFK</th>\n",
       "      <td>2.0</td>\n",
       "      <td>6.938984</td>\n",
       "      <td>-0.115043</td>\n",
       "    </tr>\n",
       "    <tr>\n",
       "      <th>ISP</th>\n",
       "      <td>2.0</td>\n",
       "      <td>-2.335323</td>\n",
       "      <td>1.345642</td>\n",
       "    </tr>\n",
       "    <tr>\n",
       "      <th>IAD</th>\n",
       "      <td>2.0</td>\n",
       "      <td>2.191618</td>\n",
       "      <td>0.281486</td>\n",
       "    </tr>\n",
       "    <tr>\n",
       "      <th>EWR</th>\n",
       "      <td>2.0</td>\n",
       "      <td>7.326145</td>\n",
       "      <td>1.272416</td>\n",
       "    </tr>\n",
       "    <tr>\n",
       "      <th>DCA</th>\n",
       "      <td>2.0</td>\n",
       "      <td>-0.180019</td>\n",
       "      <td>-1.312949</td>\n",
       "    </tr>\n",
       "    <tr>\n",
       "      <th>PIT</th>\n",
       "      <td>2.0</td>\n",
       "      <td>-0.692638</td>\n",
       "      <td>0.222981</td>\n",
       "    </tr>\n",
       "    <tr>\n",
       "      <th>HPN</th>\n",
       "      <td>2.0</td>\n",
       "      <td>5.547505</td>\n",
       "      <td>5.947163</td>\n",
       "    </tr>\n",
       "    <tr>\n",
       "      <th>BWI</th>\n",
       "      <td>2.0</td>\n",
       "      <td>-0.004531</td>\n",
       "      <td>-0.207080</td>\n",
       "    </tr>\n",
       "    <tr>\n",
       "      <th>PHL</th>\n",
       "      <td>2.0</td>\n",
       "      <td>5.057623</td>\n",
       "      <td>-0.173409</td>\n",
       "    </tr>\n",
       "    <tr>\n",
       "      <th>BUF</th>\n",
       "      <td>2.0</td>\n",
       "      <td>-0.160833</td>\n",
       "      <td>1.690837</td>\n",
       "    </tr>\n",
       "    <tr>\n",
       "      <th>SWF</th>\n",
       "      <td>2.0</td>\n",
       "      <td>1.789889</td>\n",
       "      <td>3.796186</td>\n",
       "    </tr>\n",
       "    <tr>\n",
       "      <th>RFD</th>\n",
       "      <td>3.0</td>\n",
       "      <td>-1.664533</td>\n",
       "      <td>2.269002</td>\n",
       "    </tr>\n",
       "    <tr>\n",
       "      <th>MSP</th>\n",
       "      <td>3.0</td>\n",
       "      <td>0.989822</td>\n",
       "      <td>-2.192584</td>\n",
       "    </tr>\n",
       "    <tr>\n",
       "      <th>DTW</th>\n",
       "      <td>3.0</td>\n",
       "      <td>1.414908</td>\n",
       "      <td>-2.300086</td>\n",
       "    </tr>\n",
       "    <tr>\n",
       "      <th>MKE</th>\n",
       "      <td>3.0</td>\n",
       "      <td>0.003114</td>\n",
       "      <td>1.072383</td>\n",
       "    </tr>\n",
       "    <tr>\n",
       "      <th>MDW</th>\n",
       "      <td>3.0</td>\n",
       "      <td>1.010693</td>\n",
       "      <td>0.708452</td>\n",
       "    </tr>\n",
       "    <tr>\n",
       "      <th>CLE</th>\n",
       "      <td>3.0</td>\n",
       "      <td>-0.641188</td>\n",
       "      <td>-0.591714</td>\n",
       "    </tr>\n",
       "    <tr>\n",
       "      <th>ORD</th>\n",
       "      <td>3.0</td>\n",
       "      <td>5.539137</td>\n",
       "      <td>-2.578978</td>\n",
       "    </tr>\n",
       "    <tr>\n",
       "      <th>IND</th>\n",
       "      <td>3.0</td>\n",
       "      <td>-0.365735</td>\n",
       "      <td>0.378976</td>\n",
       "    </tr>\n",
       "    <tr>\n",
       "      <th>DAY</th>\n",
       "      <td>3.0</td>\n",
       "      <td>-1.419843</td>\n",
       "      <td>1.057225</td>\n",
       "    </tr>\n",
       "    <tr>\n",
       "      <th>BDL</th>\n",
       "      <td>4.0</td>\n",
       "      <td>-1.093331</td>\n",
       "      <td>0.556845</td>\n",
       "    </tr>\n",
       "    <tr>\n",
       "      <th>PVD</th>\n",
       "      <td>4.0</td>\n",
       "      <td>-0.991210</td>\n",
       "      <td>1.150338</td>\n",
       "    </tr>\n",
       "    <tr>\n",
       "      <th>MHT</th>\n",
       "      <td>4.0</td>\n",
       "      <td>-0.067274</td>\n",
       "      <td>2.484289</td>\n",
       "    </tr>\n",
       "    <tr>\n",
       "      <th>BOS</th>\n",
       "      <td>4.0</td>\n",
       "      <td>2.121247</td>\n",
       "      <td>-0.662258</td>\n",
       "    </tr>\n",
       "    <tr>\n",
       "      <th>PDX</th>\n",
       "      <td>5.0</td>\n",
       "      <td>-2.781061</td>\n",
       "      <td>-1.094026</td>\n",
       "    </tr>\n",
       "    <tr>\n",
       "      <th>...</th>\n",
       "      <td>...</td>\n",
       "      <td>...</td>\n",
       "      <td>...</td>\n",
       "    </tr>\n",
       "    <tr>\n",
       "      <th>BNA</th>\n",
       "      <td>6.0</td>\n",
       "      <td>-1.023905</td>\n",
       "      <td>0.581833</td>\n",
       "    </tr>\n",
       "    <tr>\n",
       "      <th>BHM</th>\n",
       "      <td>6.0</td>\n",
       "      <td>-1.042222</td>\n",
       "      <td>1.732180</td>\n",
       "    </tr>\n",
       "    <tr>\n",
       "      <th>ATL</th>\n",
       "      <td>6.0</td>\n",
       "      <td>4.836584</td>\n",
       "      <td>-3.954600</td>\n",
       "    </tr>\n",
       "    <tr>\n",
       "      <th>RDU</th>\n",
       "      <td>6.0</td>\n",
       "      <td>-0.314462</td>\n",
       "      <td>0.699242</td>\n",
       "    </tr>\n",
       "    <tr>\n",
       "      <th>PBI</th>\n",
       "      <td>6.0</td>\n",
       "      <td>1.455070</td>\n",
       "      <td>3.255340</td>\n",
       "    </tr>\n",
       "    <tr>\n",
       "      <th>SAT</th>\n",
       "      <td>7.0</td>\n",
       "      <td>-1.521884</td>\n",
       "      <td>0.738923</td>\n",
       "    </tr>\n",
       "    <tr>\n",
       "      <th>ABQ</th>\n",
       "      <td>7.0</td>\n",
       "      <td>-2.554774</td>\n",
       "      <td>0.177234</td>\n",
       "    </tr>\n",
       "    <tr>\n",
       "      <th>HOU</th>\n",
       "      <td>7.0</td>\n",
       "      <td>-0.092121</td>\n",
       "      <td>1.382913</td>\n",
       "    </tr>\n",
       "    <tr>\n",
       "      <th>AUS</th>\n",
       "      <td>7.0</td>\n",
       "      <td>-1.389544</td>\n",
       "      <td>0.768414</td>\n",
       "    </tr>\n",
       "    <tr>\n",
       "      <th>MSY</th>\n",
       "      <td>7.0</td>\n",
       "      <td>-1.865532</td>\n",
       "      <td>0.426934</td>\n",
       "    </tr>\n",
       "    <tr>\n",
       "      <th>DAL</th>\n",
       "      <td>7.0</td>\n",
       "      <td>-0.371633</td>\n",
       "      <td>1.610537</td>\n",
       "    </tr>\n",
       "    <tr>\n",
       "      <th>DFW</th>\n",
       "      <td>7.0</td>\n",
       "      <td>2.532369</td>\n",
       "      <td>-3.490411</td>\n",
       "    </tr>\n",
       "    <tr>\n",
       "      <th>IAH</th>\n",
       "      <td>7.0</td>\n",
       "      <td>1.906751</td>\n",
       "      <td>-2.548212</td>\n",
       "    </tr>\n",
       "    <tr>\n",
       "      <th>BUR</th>\n",
       "      <td>8.0</td>\n",
       "      <td>-2.740822</td>\n",
       "      <td>0.257544</td>\n",
       "    </tr>\n",
       "    <tr>\n",
       "      <th>SNA</th>\n",
       "      <td>8.0</td>\n",
       "      <td>-1.668419</td>\n",
       "      <td>-0.237642</td>\n",
       "    </tr>\n",
       "    <tr>\n",
       "      <th>SMF</th>\n",
       "      <td>8.0</td>\n",
       "      <td>-3.022588</td>\n",
       "      <td>-0.178792</td>\n",
       "    </tr>\n",
       "    <tr>\n",
       "      <th>SJC</th>\n",
       "      <td>8.0</td>\n",
       "      <td>-2.574703</td>\n",
       "      <td>-0.011800</td>\n",
       "    </tr>\n",
       "    <tr>\n",
       "      <th>SFO</th>\n",
       "      <td>8.0</td>\n",
       "      <td>2.488982</td>\n",
       "      <td>0.335930</td>\n",
       "    </tr>\n",
       "    <tr>\n",
       "      <th>HNL</th>\n",
       "      <td>8.0</td>\n",
       "      <td>-3.186924</td>\n",
       "      <td>-2.318644</td>\n",
       "    </tr>\n",
       "    <tr>\n",
       "      <th>ONT</th>\n",
       "      <td>8.0</td>\n",
       "      <td>-2.100138</td>\n",
       "      <td>0.899710</td>\n",
       "    </tr>\n",
       "    <tr>\n",
       "      <th>SAN</th>\n",
       "      <td>8.0</td>\n",
       "      <td>-1.728215</td>\n",
       "      <td>-0.506984</td>\n",
       "    </tr>\n",
       "    <tr>\n",
       "      <th>LAS</th>\n",
       "      <td>8.0</td>\n",
       "      <td>0.590375</td>\n",
       "      <td>-0.796700</td>\n",
       "    </tr>\n",
       "    <tr>\n",
       "      <th>LAX</th>\n",
       "      <td>8.0</td>\n",
       "      <td>1.220876</td>\n",
       "      <td>-2.927542</td>\n",
       "    </tr>\n",
       "    <tr>\n",
       "      <th>LGB</th>\n",
       "      <td>8.0</td>\n",
       "      <td>-2.791355</td>\n",
       "      <td>-0.495213</td>\n",
       "    </tr>\n",
       "    <tr>\n",
       "      <th>PSP</th>\n",
       "      <td>8.0</td>\n",
       "      <td>-0.910745</td>\n",
       "      <td>1.283687</td>\n",
       "    </tr>\n",
       "    <tr>\n",
       "      <th>OAK</th>\n",
       "      <td>8.0</td>\n",
       "      <td>-1.901413</td>\n",
       "      <td>0.081763</td>\n",
       "    </tr>\n",
       "    <tr>\n",
       "      <th>PHX</th>\n",
       "      <td>8.0</td>\n",
       "      <td>0.025703</td>\n",
       "      <td>-2.444503</td>\n",
       "    </tr>\n",
       "    <tr>\n",
       "      <th>OGG</th>\n",
       "      <td>8.0</td>\n",
       "      <td>-4.635172</td>\n",
       "      <td>-1.810250</td>\n",
       "    </tr>\n",
       "    <tr>\n",
       "      <th>OXR</th>\n",
       "      <td>8.0</td>\n",
       "      <td>-4.751256</td>\n",
       "      <td>-0.893713</td>\n",
       "    </tr>\n",
       "    <tr>\n",
       "      <th>TUS</th>\n",
       "      <td>8.0</td>\n",
       "      <td>-2.479667</td>\n",
       "      <td>0.566377</td>\n",
       "    </tr>\n",
       "  </tbody>\n",
       "</table>\n",
       "<p>74 rows × 3 columns</p>\n",
       "</div>"
      ],
      "text/plain": [
       "         FAA REGION       PC1       PC2\n",
       "Airport                                \n",
       "ANC             0.0  0.188585  0.727654\n",
       "MCI             1.0 -1.437936  0.212991\n",
       "OMA             1.0 -0.914150  1.503919\n",
       "STL             1.0 -1.479381 -0.339757\n",
       "LGA             2.0  6.109063  0.216410\n",
       "JFK             2.0  6.938984 -0.115043\n",
       "ISP             2.0 -2.335323  1.345642\n",
       "IAD             2.0  2.191618  0.281486\n",
       "EWR             2.0  7.326145  1.272416\n",
       "DCA             2.0 -0.180019 -1.312949\n",
       "PIT             2.0 -0.692638  0.222981\n",
       "HPN             2.0  5.547505  5.947163\n",
       "BWI             2.0 -0.004531 -0.207080\n",
       "PHL             2.0  5.057623 -0.173409\n",
       "BUF             2.0 -0.160833  1.690837\n",
       "SWF             2.0  1.789889  3.796186\n",
       "RFD             3.0 -1.664533  2.269002\n",
       "MSP             3.0  0.989822 -2.192584\n",
       "DTW             3.0  1.414908 -2.300086\n",
       "MKE             3.0  0.003114  1.072383\n",
       "MDW             3.0  1.010693  0.708452\n",
       "CLE             3.0 -0.641188 -0.591714\n",
       "ORD             3.0  5.539137 -2.578978\n",
       "IND             3.0 -0.365735  0.378976\n",
       "DAY             3.0 -1.419843  1.057225\n",
       "BDL             4.0 -1.093331  0.556845\n",
       "PVD             4.0 -0.991210  1.150338\n",
       "MHT             4.0 -0.067274  2.484289\n",
       "BOS             4.0  2.121247 -0.662258\n",
       "PDX             5.0 -2.781061 -1.094026\n",
       "...             ...       ...       ...\n",
       "BNA             6.0 -1.023905  0.581833\n",
       "BHM             6.0 -1.042222  1.732180\n",
       "ATL             6.0  4.836584 -3.954600\n",
       "RDU             6.0 -0.314462  0.699242\n",
       "PBI             6.0  1.455070  3.255340\n",
       "SAT             7.0 -1.521884  0.738923\n",
       "ABQ             7.0 -2.554774  0.177234\n",
       "HOU             7.0 -0.092121  1.382913\n",
       "AUS             7.0 -1.389544  0.768414\n",
       "MSY             7.0 -1.865532  0.426934\n",
       "DAL             7.0 -0.371633  1.610537\n",
       "DFW             7.0  2.532369 -3.490411\n",
       "IAH             7.0  1.906751 -2.548212\n",
       "BUR             8.0 -2.740822  0.257544\n",
       "SNA             8.0 -1.668419 -0.237642\n",
       "SMF             8.0 -3.022588 -0.178792\n",
       "SJC             8.0 -2.574703 -0.011800\n",
       "SFO             8.0  2.488982  0.335930\n",
       "HNL             8.0 -3.186924 -2.318644\n",
       "ONT             8.0 -2.100138  0.899710\n",
       "SAN             8.0 -1.728215 -0.506984\n",
       "LAS             8.0  0.590375 -0.796700\n",
       "LAX             8.0  1.220876 -2.927542\n",
       "LGB             8.0 -2.791355 -0.495213\n",
       "PSP             8.0 -0.910745  1.283687\n",
       "OAK             8.0 -1.901413  0.081763\n",
       "PHX             8.0  0.025703 -2.444503\n",
       "OGG             8.0 -4.635172 -1.810250\n",
       "OXR             8.0 -4.751256 -0.893713\n",
       "TUS             8.0 -2.479667  0.566377\n",
       "\n",
       "[74 rows x 3 columns]"
      ]
     },
     "execution_count": 83,
     "metadata": {},
     "output_type": "execute_result"
    }
   ],
   "source": [
    "airport_pca.sort('FAA REGION')"
   ]
  },
  {
   "cell_type": "code",
   "execution_count": 84,
   "metadata": {
    "collapsed": false
   },
   "outputs": [
    {
     "name": "stderr",
     "output_type": "stream",
     "text": [
      "//anaconda/lib/python2.7/site-packages/sklearn/cross_validation.py:44: DeprecationWarning: This module was deprecated in version 0.18 in favor of the model_selection module into which all the refactored classes and functions are moved. Also note that the interface of the new CV iterators are different from that of this module. This module will be removed in 0.20.\n",
      "  \"This module will be removed in 0.20.\", DeprecationWarning)\n"
     ]
    },
    {
     "name": "stdout",
     "output_type": "stream",
     "text": [
      "0.28 mean accuracy, using 12 dimensions.\n"
     ]
    }
   ],
   "source": [
    "from sklearn.ensemble import RandomForestClassifier\n",
    "from sklearn.cross_validation import train_test_split\n",
    "\n",
    "X_train, X_test, y_train, y_test = train_test_split(X, y, test_size=0.33, random_state=1)\n",
    "clf = RandomForestClassifier()\n",
    "clf.fit(X_train, y_train)\n",
    "print clf.score(X_test, y_test), \"mean accuracy, using {0} dimensions.\".format(X.shape[1])"
   ]
  },
  {
   "cell_type": "code",
   "execution_count": 85,
   "metadata": {
    "collapsed": false
   },
   "outputs": [
    {
     "name": "stdout",
     "output_type": "stream",
     "text": [
      "0.2 mean accuracy, using 2 principal component dimensions.\n"
     ]
    }
   ],
   "source": [
    "\n",
    "X_train, X_test, y_train, y_test = train_test_split(X_pca, y, test_size=0.33, random_state=1)\n",
    "clf = RandomForestClassifier()\n",
    "clf.fit(X_train, y_train)\n",
    "print clf.score(X_test, y_test), \"mean accuracy, using {0} principal component dimensions.\".format(X_pca.shape[1])"
   ]
  },
  {
   "cell_type": "code",
   "execution_count": 86,
   "metadata": {
    "collapsed": true
   },
   "outputs": [],
   "source": [
    "y_pred = clf.predict(X_test)"
   ]
  },
  {
   "cell_type": "code",
   "execution_count": 87,
   "metadata": {
    "collapsed": false
   },
   "outputs": [],
   "source": [
    "from sklearn.metrics import classification_report, confusion_matrix"
   ]
  },
  {
   "cell_type": "code",
   "execution_count": 88,
   "metadata": {
    "collapsed": false
   },
   "outputs": [
    {
     "name": "stdout",
     "output_type": "stream",
     "text": [
      "             precision    recall  f1-score   support\n",
      "\n",
      "        1.0       0.00      0.00      0.00         1\n",
      "        2.0       0.33      0.33      0.33         3\n",
      "        3.0       0.00      0.00      0.00         1\n",
      "        4.0       0.00      0.00      0.00         0\n",
      "        6.0       0.00      0.00      0.00         8\n",
      "        7.0       0.00      0.00      0.00         4\n",
      "        8.0       0.57      0.50      0.53         8\n",
      "\n",
      "avg / total       0.22      0.20      0.21        25\n",
      "\n"
     ]
    },
    {
     "name": "stderr",
     "output_type": "stream",
     "text": [
      "//anaconda/lib/python2.7/site-packages/sklearn/metrics/classification.py:1115: UndefinedMetricWarning: Recall and F-score are ill-defined and being set to 0.0 in labels with no true samples.\n",
      "  'recall', 'true', average, warn_for)\n"
     ]
    }
   ],
   "source": [
    "print classification_report(y_pred, y_test)"
   ]
  },
  {
   "cell_type": "markdown",
   "metadata": {
    "focus": false,
    "id": "023d9120-1eb3-4f20-b083-5a8fa1605f06"
   },
   "source": [
    "#### 5.2 Write an analysis plan of your findings "
   ]
  },
  {
   "cell_type": "markdown",
   "metadata": {
    "focus": false,
    "id": "dc0ce0b7-c246-4d76-a01d-88fa0d37fe95"
   },
   "source": [
    "Create a writeup on the interpretation of findings including an executive summary with conclusions and next steps"
   ]
  },
  {
   "cell_type": "code",
   "execution_count": null,
   "metadata": {
    "collapsed": true
   },
   "outputs": [],
   "source": []
  }
 ],
 "metadata": {
  "anaconda-cloud": {},
  "kernelspec": {
   "display_name": "Python [Root]",
   "language": "python",
   "name": "Python [Root]"
  },
  "language_info": {
   "codemirror_mode": {
    "name": "ipython",
    "version": 2
   },
   "file_extension": ".py",
   "mimetype": "text/x-python",
   "name": "python",
   "nbconvert_exporter": "python",
   "pygments_lexer": "ipython2",
   "version": "2.7.12"
  }
 },
 "nbformat": 4,
 "nbformat_minor": 0
}
